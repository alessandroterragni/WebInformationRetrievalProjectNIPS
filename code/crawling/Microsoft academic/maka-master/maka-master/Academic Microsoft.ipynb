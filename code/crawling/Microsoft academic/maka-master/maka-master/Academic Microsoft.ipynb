{
 "cells": [
  {
   "cell_type": "code",
   "execution_count": 1,
   "metadata": {
    "collapsed": true
   },
   "outputs": [],
   "source": [
    "from samples import author\n",
    "import json\n",
    "import os\n",
    "import imp"
   ]
  },
  {
   "cell_type": "markdown",
   "metadata": {},
   "source": [
    "h-index function"
   ]
  },
  {
   "cell_type": "code",
   "execution_count": 2,
   "metadata": {
    "collapsed": true
   },
   "outputs": [],
   "source": [
    "def hIndex(citations):\n",
    "    \"\"\"\n",
    "    :type citations: List[int]\n",
    "    :rtype: int\n",
    "    \"\"\"\n",
    "    N = len(citations)\n",
    "    if N == 0:\n",
    "        return 0\n",
    "    sortlist = sorted(citations, reverse = True)\n",
    "    #\n",
    "    i = 0\n",
    "    while i<N and sortlist[i] >= (i+1):\n",
    "        i += 1\n",
    "    return i"
   ]
  },
  {
   "cell_type": "markdown",
   "metadata": {},
   "source": [
    "This code calls the API function (using a private key from Microsoft Academic) and retrieves the number of papers and citations of each author. Once the result is generated, it is copied and pasted into an excel."
   ]
  },
  {
   "cell_type": "code",
   "execution_count": null,
   "metadata": {
    "scrolled": false
   },
   "outputs": [],
   "source": [
    "import pandas\n",
    "import requests\n",
    "import re\n",
    "import time\n",
    "from pathlib import Path\n",
    "d = Path().resolve().parent.parent.parent.parent.parent\n",
    "csv = pandas.read_csv(str(d) + \"/data/original/authors.csv\")\n",
    "\n",
    "#Because the whole data can not be obtain in one single strike, I use this variable to specify in which author to start.\n",
    "i=0\n",
    "\n",
    "\n",
    "for j in range(i,len(csv)):\n",
    "    if(i<5):\n",
    "        endtime=time.time()+100\n",
    "        aux = 0\n",
    "        res = \",,\"\n",
    "        while (time.time()<endtime):\n",
    "            if(aux==1):\n",
    "                break\n",
    "            imp.reload(author)\n",
    "            name = csv['name'][j]\n",
    "            name = name.replace(\"?\",\"\")\n",
    "            ident = csv['id'][j]\n",
    "            author.find_author(name)\n",
    "            fileName = name.replace(\" \",\"\").replace(\"?\",\"\").lower() + \".json\"\n",
    "            citations = []\n",
    "            with open(fileName) as data_file:   \n",
    "                data = json.load(data_file)\n",
    "                for article in data['articles']:\n",
    "                    citations.append(article['num_citations'])\n",
    "            os.remove(fileName)\n",
    "            res = str(ident) + \",\" + name + \",\" + str(hIndex(citations))\n",
    "            aux=1\n",
    "        print(res)\n",
    "        i+=1\n",
    "    else:\n",
    "        print(\"Done\")\n",
    "        break"
   ]
  },
  {
   "cell_type": "code",
   "execution_count": null,
   "metadata": {
    "collapsed": true
   },
   "outputs": [],
   "source": []
  }
 ],
 "metadata": {
  "kernelspec": {
   "display_name": "Python 3",
   "language": "python",
   "name": "python3"
  },
  "language_info": {
   "codemirror_mode": {
    "name": "ipython",
    "version": 3
   },
   "file_extension": ".py",
   "mimetype": "text/x-python",
   "name": "python",
   "nbconvert_exporter": "python",
   "pygments_lexer": "ipython3",
   "version": "3.6.1"
  }
 },
 "nbformat": 4,
 "nbformat_minor": 2
}
