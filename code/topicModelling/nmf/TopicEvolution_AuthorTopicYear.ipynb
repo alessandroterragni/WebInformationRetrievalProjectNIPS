{
 "cells": [
  {
   "cell_type": "code",
   "execution_count": 1,
   "metadata": {
    "collapsed": true
   },
   "outputs": [],
   "source": [
    "import pandas as pd\n",
    "import numpy as np\n",
    "import seaborn as sns\n",
    "import matplotlib.pyplot as plt\n",
    "\n",
    "%matplotlib inline"
   ]
  },
  {
   "cell_type": "code",
   "execution_count": null,
   "metadata": {
    "collapsed": true
   },
   "outputs": [],
   "source": [
    "from pathlib import Path\n",
    "d = Path().resolve().parent.parent.parent\n",
    "\n",
    "paper_authors= pd.read_csv(str(d) + \"/data/original/paper_authors.csv\")\n",
    "paper_topics = pd.read_csv(str(d) + \"/data/generated/NMF_paperID_topicID.csv\")\n",
    "papers = pd.read_csv(str(d) + \"/data/original/papers.csv\")"
   ]
  },
  {
   "cell_type": "code",
   "execution_count": 3,
   "metadata": {
    "collapsed": true
   },
   "outputs": [],
   "source": [
    "#merging the data sources for getting the structure Paper_id, author_id, topic_id, year\n",
    "paper_topics_dict = paper_topics.groupby('paper_id')['topic_id'].apply(list).to_dict()\n",
    "paper_dict = papers.groupby('id')['year'].apply(list).to_dict()"
   ]
  },
  {
   "cell_type": "code",
   "execution_count": 4,
   "metadata": {
    "collapsed": true
   },
   "outputs": [],
   "source": [
    "final = []\n",
    "for i in range(0,len(paper_authors)):\n",
    "    final.append([paper_authors['paper_id'][i],paper_authors['author_id'][i],paper_topics_dict[paper_authors['paper_id'][i]][0],paper_dict[paper_authors['paper_id'][i]][0]])\n"
   ]
  },
  {
   "cell_type": "code",
   "execution_count": 5,
   "metadata": {
    "collapsed": true
   },
   "outputs": [],
   "source": [
    "#converting the list into dataframe\n",
    "df = pd.DataFrame(np.array(final), columns = [\"paper_id\",\"author_id\",\"topic\",\"year\"])"
   ]
  },
  {
   "cell_type": "code",
   "execution_count": 6,
   "metadata": {
    "collapsed": true
   },
   "outputs": [],
   "source": [
    "#Function to save a graph with the topic evolution per author. \n",
    "#it receives the dataframe and agreggates the data of the given author_id\n",
    "def plot_topic_author(df,a_id):\n",
    "    \n",
    "    df_1 = df.loc[df['author_id'] == a_id]\n",
    "    df_2 = df_1.groupby(['year'])['paper_id'].agg(['count']).reset_index()\n",
    "    df_3 = pd.merge(df_1, df_2, on=['year'],left_index=False, right_index=False)\n",
    "    plt.figure(figsize=(14,6))\n",
    "    sns_plot = sns.barplot(x=\"year\", y=\"count\", hue=\"topic\", data=df_3)\n",
    "    sns_plot.legend(ncol=1, loc=\"upper left\", frameon=True)\n",
    "    sns.despine(left=True, bottom=True)\n",
    "    \n",
    "    plt.savefig('plot_topic_author.png')\n",
    "    \n",
    "  \n"
   ]
  },
  {
   "cell_type": "code",
   "execution_count": null,
   "metadata": {
    "collapsed": true
   },
   "outputs": [],
   "source": []
  }
 ],
 "metadata": {
  "kernelspec": {
   "display_name": "Python 3",
   "language": "python",
   "name": "python3"
  },
  "language_info": {
   "codemirror_mode": {
    "name": "ipython",
    "version": 3
   },
   "file_extension": ".py",
   "mimetype": "text/x-python",
   "name": "python",
   "nbconvert_exporter": "python",
   "pygments_lexer": "ipython3",
   "version": "3.5.2"
  }
 },
 "nbformat": 4,
 "nbformat_minor": 2
}
