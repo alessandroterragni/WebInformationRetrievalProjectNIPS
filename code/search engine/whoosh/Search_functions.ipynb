{
 "cells": [
  {
   "cell_type": "markdown",
   "metadata": {},
   "source": [
    "## Search authors from DB"
   ]
  },
  {
   "cell_type": "code",
   "execution_count": 7,
   "metadata": {
    "collapsed": true
   },
   "outputs": [],
   "source": [
    "def searchAuthors(name=None, institution=None, topic=None):\n",
    "    import sqlite3\n",
    "\n",
    "    database = \"database/database.sqlite\"\n",
    "    conn = sqlite3.connect(database)\n",
    "    \n",
    "    l = []\n",
    "    likeName = '%' + name.upper() + '%' if (name) else None \n",
    "    likeInstitution = '%' + institution.upper() + '%' if (institution) else None\n",
    "    topic = topic if (topic) else None\n",
    "    \n",
    "    with conn:\n",
    "        cur = conn.cursor()\n",
    "        cur.execute(\"SELECT a.id \" + \n",
    "                    \"FROM authors a JOIN paper_authors pa ON a.id=pa.author_id JOIN paper_topic pt ON pt.paper_id=pa.paper_id \" + \n",
    "                    \"JOIN topics t ON t.id=pt.topic_id LEFT JOIN author_institution ai ON ai.author_id=a.id LEFT JOIN institutions i ON i.id=ai.institution_id \" + \n",
    "                    \"JOIN author_ranking ar on ar.author_id=a.id \" +\n",
    "                    \"WHERE a.name LIKE IFNULL(?,'%') AND IFNULL(i.name,'') LIKE IFNULL(?,'%') AND t.name = IFNULL(?,t.name) \" +\n",
    "                    \"GROUP BY a.id, ar.pagerank_citations ORDER BY ar.pagerank_citations DESC\", (likeName, likeInstitution, topic))\n",
    "        \n",
    "        rows = cur.fetchall()\n",
    "        \n",
    "        for row in rows:\n",
    "            l.extend(row)\n",
    "            \n",
    "    return(l)"
   ]
  },
  {
   "cell_type": "markdown",
   "metadata": {},
   "source": [
    "### Example"
   ]
  },
  {
   "cell_type": "code",
   "execution_count": 8,
   "metadata": {},
   "outputs": [
    {
     "name": "stdout",
     "output_type": "stream",
     "text": [
      "[330, 3032, 3005, 7392]\n",
      "\n",
      "330 - Michael I. Jordan\n",
      "3032 - Joris M. Mooij\n",
      "3005 - Jorge D?ez\n",
      "7392 - Jorge Batista\n"
     ]
    }
   ],
   "source": [
    "authors = searchAuthors(name=\"jor\", institution=\"\", topic=\"\")\n",
    "print(authors)\n",
    "print()\n",
    "\n",
    "# get details for the obtained authors\n",
    "import sqlite3\n",
    "database = \"database/database.sqlite\"\n",
    "conn = sqlite3.connect(database)\n",
    "\n",
    "with conn:\n",
    "    cur = conn.cursor()\n",
    "            \n",
    "    for id in authors:\n",
    "        cur.execute(\"SELECT id, name FROM authors WHERE id = \" + str(id))\n",
    "\n",
    "        row = cur.fetchone()\n",
    "        print(\"{} - {}\".format(row[0], row[1]))"
   ]
  },
  {
   "cell_type": "markdown",
   "metadata": {
    "collapsed": true
   },
   "source": [
    "## Search papers from index"
   ]
  },
  {
   "cell_type": "code",
   "execution_count": 1,
   "metadata": {
    "collapsed": true
   },
   "outputs": [],
   "source": [
    "def searchPapers(year=None, author=None, topic=None, userQuery=None):\n",
    "        \n",
    "    # Open the existing index\n",
    "    import whoosh.index as index\n",
    "\n",
    "    index_dir = \"index\"\n",
    "\n",
    "    ix = index.open_dir(index_dir)\n",
    "    \n",
    "    # Lemmatization of user query\n",
    "    from nltk.stem.wordnet import WordNetLemmatizer\n",
    "    lemma = WordNetLemmatizer()\n",
    "    userQuery = \" \".join(lemma.lemmatize(word,'n') for word in userQuery.split())\n",
    "    userQuery = \" \".join(lemma.lemmatize(word,'v') for word in userQuery.split())\n",
    "    \n",
    "    # Parse with filter on fields    \n",
    "    from whoosh import query\n",
    "    from whoosh import qparser\n",
    "    from whoosh.qparser import QueryParser\n",
    "    from whoosh.qparser import MultifieldParser\n",
    "\n",
    "    with ix.searcher() as s:\n",
    "        if(not userQuery):\n",
    "            qp = QueryParser(\"id\", schema=ix.schema)\n",
    "            user_q = qp.parse(\"*\")\n",
    "            \n",
    "        else:\n",
    "            # 0 = importance to documents with one of the terms\n",
    "            # 1 = importance to documents with all of the terms\n",
    "            og = qparser.OrGroup.factory(0.8)\n",
    "\n",
    "            # search both in title and text\n",
    "            mparser = MultifieldParser([\"title\", \"paper_text\"], schema=ix.schema, group=og)\n",
    "            user_q = mparser.parse(userQuery)\n",
    "\n",
    "            #search only in text\n",
    "            #qp = QueryParser(\"paper_text\", schema=ix.schema, group=og)\n",
    "            #user_q = qp.parse(userQuery)\n",
    "        \n",
    "\n",
    "        # Filter results for fields\n",
    "        allow_q = query.NullQuery        \n",
    "        \n",
    "        if (year):\n",
    "            allow_q = allow_q & query.Term(\"year\", year)\n",
    "        \n",
    "        if (author):\n",
    "            formattedAuthors = author.lower().split()\n",
    "            for fa in formattedAuthors:\n",
    "                fa = \"*\" + fa + \"*\"\n",
    "                print(fa)\n",
    "                allow_q = allow_q & query.Wildcard(\"authors\", fa)\n",
    "        \n",
    "        if (topic):\n",
    "            topicParser = qparser.QueryParser(\"topic\", schema=ix.schema)\n",
    "            allow_q = allow_q & topicParser.parse(topic)\n",
    "\n",
    "        if (not year and not author and not topic):\n",
    "            results = s.search(user_q)\n",
    "        else:\n",
    "            results = s.search(user_q, filter=allow_q)\n",
    "        \n",
    "        papers = []\n",
    "        for result in results:\n",
    "            papers.extend([int(result['id'])])\n",
    "        return papers"
   ]
  },
  {
   "cell_type": "markdown",
   "metadata": {
    "collapsed": true
   },
   "source": [
    "### Example"
   ]
  },
  {
   "cell_type": "code",
   "execution_count": 5,
   "metadata": {},
   "outputs": [
    {
     "name": "stdout",
     "output_type": "stream",
     "text": [
      "try view density\n",
      "[929, 962, 907, 999, 909, 1017, 1019, 885, 978]\n",
      "\n",
      "929 - Hierarchical Mixtures of Experts Methodology Applied to Continuous Speech Recognition (1994)\n",
      "962 - Recognizing Handwritten Digits Using Mixtures of Linear Models (1994)\n",
      "907 - Classifying with Gaussian Mixtures and Clusters (1994)\n",
      "999 - Correlation and Interpolation Networks for Real-time Expression Analysis/Synthesis (1994)\n",
      "909 - Forward dynamic models in human motor control: Psychophysical evidence (1994)\n",
      "1017 - A Critical Comparison of Models for Orientation and Ocular Dominance Columns in the Striate Cortex (1994)\n",
      "1019 - A Mixture Model System for Medical and Machine Diagnosis (1994)\n",
      "885 - A Comparison of Discrete-Time Operator Models for Nonlinear System Identification (1994)\n",
      "978 - Pattern Playback in the 90s (1994)\n"
     ]
    }
   ],
   "source": [
    "papers = searchPapers(year=1994, author=\"\", topic=\"Probabilistic Models\", userQuery=\"tries views densities\")\n",
    "print(papers)\n",
    "print()\n",
    "\n",
    "# get details for the obtained papers\n",
    "import sqlite3\n",
    "database = \"database/database.sqlite\"\n",
    "conn = sqlite3.connect(database)\n",
    "\n",
    "with conn:\n",
    "    cur = conn.cursor()\n",
    "            \n",
    "    for id in papers:\n",
    "        cur.execute(\"SELECT id, year, title FROM papers WHERE id = \" + str(id))\n",
    "\n",
    "        row = cur.fetchone()\n",
    "        print(\"{} - {} ({})\".format(row[0], row[2], row[1]))"
   ]
  },
  {
   "cell_type": "code",
   "execution_count": null,
   "metadata": {
    "collapsed": true
   },
   "outputs": [],
   "source": []
  }
 ],
 "metadata": {
  "kernelspec": {
   "display_name": "Python 3",
   "language": "python",
   "name": "python3"
  },
  "language_info": {
   "codemirror_mode": {
    "name": "ipython",
    "version": 3
   },
   "file_extension": ".py",
   "mimetype": "text/x-python",
   "name": "python",
   "nbconvert_exporter": "python",
   "pygments_lexer": "ipython3",
   "version": "3.6.1"
  }
 },
 "nbformat": 4,
 "nbformat_minor": 2
}
