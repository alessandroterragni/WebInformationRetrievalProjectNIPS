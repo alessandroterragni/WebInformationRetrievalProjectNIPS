{
 "cells": [
  {
   "cell_type": "markdown",
   "metadata": {},
   "source": [
    "## Read all papers from database, joining authors and topics"
   ]
  },
  {
   "cell_type": "code",
   "execution_count": 1,
   "metadata": {
    "collapsed": true
   },
   "outputs": [],
   "source": [
    "import sqlite3\n",
    "\n",
    "from pathlib import Path\n",
    "pd = Path().resolve().parent.parent\n",
    "database = str(pd) + \"/data/generated/database/database.sqlite\"\n",
    " \n",
    "# create a database connection\n",
    "conn = sqlite3.connect(database)\n",
    "\n",
    "d = {}\n",
    "\n",
    "with conn:\n",
    "    cur = conn.cursor()\n",
    "    cur.execute(\"SELECT id, year, title, paper_text FROM papers\")\n",
    " \n",
    "    rows = cur.fetchall()\n",
    "    \n",
    "    for id, year, title, paper_text in rows:\n",
    "        d[id] = [year, title, paper_text]\n",
    "        \n",
    "    for key in d: \n",
    "        cur.execute(\"SELECT A.name FROM authors A JOIN paper_authors PA ON A.id=PA.author_id WHERE PA.paper_id=?\", (key,))\n",
    "        authorRows = cur.fetchall()\n",
    "        authorsString = \"\"\n",
    "        for author in authorRows:\n",
    "            authorsString += str(author[0]) + \", \"\n",
    "        d[key].extend([authorsString])\n",
    "        \n",
    "        cur.execute(\"SELECT T.name FROM topics T JOIN paper_topic PT ON T.id=PT.topic_id WHERE PT.paper_id=?\", (key,))\n",
    "        topicRows = cur.fetchall()\n",
    "        topic = str(topicRows[0][0])\n",
    "        d[key].extend([topic])\n",
    "        \n",
    "papersArray = []\n",
    "for key in d: papersArray.extend([d[key][2]])"
   ]
  },
  {
   "cell_type": "markdown",
   "metadata": {},
   "source": [
    "## Cleaning and Preprocessing"
   ]
  },
  {
   "cell_type": "markdown",
   "metadata": {},
   "source": [
    "### Removing stopword and lemmatizing"
   ]
  },
  {
   "cell_type": "code",
   "execution_count": 2,
   "metadata": {},
   "outputs": [
    {
     "name": "stdout",
     "output_type": "stream",
     "text": [
      "['767', 'selforganization', 'associative', 'database', 'application', 'hisashi', 'suzuki', 'suguru', 'arimoto', 'osaka', 'university', 'toyonaka', 'osaka', '560', 'japan', 'abstract', 'efficient', 'method', 'selforganizing', 'associative', 'database', 'propose', 'together', 'application', 'robot', 'eyesight', 'system', 'propose', 'database', 'associate', 'input', 'output', 'first', 'half', 'part', 'discussion', 'algorithm', 'selforganization', 'propose', 'aspect', 'hardware', 'produce', 'new', 'style', 'neural', 'network', 'latter', 'half', 'part', 'applicability', 'handwritten', 'letter', 'recognition', 'autonomous', 'mobile', 'robot', 'system', 'demonstrate', 'introduction', 'let', 'map', 'f', 'x', 'give', 'here', 'x', 'finite', 'infinite', 'set', 'another', 'finite', 'infinite', 'set', 'learn', 'machine', 'observe', 'set', 'pair', 'x', 'y', 'sample', 'randomly', 'x', 'x', 'y', 'x', 'x', 'mean', 'cartesian', 'product', 'x', 'y', 'and', 'compute', 'estimate', 'j', 'x', 'f', 'make', 'small', 'estimation', 'error', 'measure', 'usually', 'say', 'that', 'faster', 'decrease', 'estimation', 'error', 'increase', 'number', 'sample', 'better', 'learn', 'machine', 'however', 'expression', 'performance', 'incomplete', 'since', 'lack', 'consideration', 'candidate', 'j', 'j', 'assume', 'preliminarily', 'then', 'find', 'good', 'learn', 'machine', 'clarify', 'conception', 'let', 'u', 'discus', 'type', 'learn', 'machine', 'and', 'let', 'u', 'advance', 'understand', 'selforganization', 'associative', 'database', 'parameter', 'type', 'ordinary', 'type', 'learn', 'machine', 'assume', 'equation', 'relate', 'x', 'y', 'parameter', 'indefinite', 'namely', 'structure', 'f', 'equivalent', 'define', 'implicitly', 'set', 'f', 'candidate', 'f', 'subset', 'map', 'x', 'y', 'and', 'compute', 'value', 'parameter', 'base', 'observe', 'sample', 'call', 'type', 'parameter', 'type', 'learn', 'machine', 'define', 'well', 'f', '3', 'f', 'j', 'approach', 'f', 'number', 'sample', 'increase', 'alternative', 'case', 'however', 'estimation', 'error', 'remain', 'eternally', 'thus', 'problem', 'design', 'learn', 'machine', 'return', 'find', 'proper', 'structure', 'f', 'sense', 'hand', 'assume', 'structure', 'f', 'demand', 'compact', 'possible', 'achieve', 'fast', 'learn', 'word', 'number', 'parameter', 'small', 'since', 'parameter', 'few', 'j', 'uniquely', 'determine', 'even', 'though', 'observe', 'sample', 'few', 'however', 'demand', 'proper', 'contradict', 'compact', 'consequently', 'parameter', 'type', 'better', 'compactness', 'assume', 'structure', 'proper', 'better', 'learn', 'machine', 'elementary', 'conception', 'design', 'learn', 'machine', '1', 'universality', 'ordinary', 'neural', 'network', 'suppose', 'sufficient', 'knowledge', 'f', 'give', 'though', 'j', 'unknown', 'case', 'comparatively', 'easy', 'find', 'proper', 'compact', 'structure', 'j', 'alternative', 'case', 'however', 'sometimes', 'difficult', 'possible', 'solution', 'give', 'compactness', 'assume', 'almighty', 'structure', 'cover', 'various', '1', 'combination', 'orthogonal', 'base', 'infinite', 'dimension', 'structure', 'neural', 'network', '1', '2', 'approximation', 'obtain', 'truncate', 'finitely', 'dimension', 'implementation', 'american', 'institute', 'physic', '1988', '768', 'main', 'topic', 'design', 'neural', 'network', 'establish', 'desirable', 'structure', '1', 'work', 'include', 'develop', 'practical', 'procedure', 'compute', 'value', 'coefficient', 'observe', 'sample', 'discussion', 'flourish', 'since', '1980', 'many', 'efficient', 'method', 'propose', 'recently', 'even', 'hardware', 'unit', 'compute', 'coefficient', 'parallel', 'speedup', 'sell', 'eg', 'anza', 'mark', 'iii', 'odyssey', 'e1', 'nevertheless', 'neural', 'network', 'always', 'exist', 'danger', 'error', 'remain', 'eternally', 'estimate', 'precisely', 'speak', 'suppose', 'combination', 'base', 'finite', 'number', 'define', 'structure', '1', 'essentially', 'word', 'suppose', 'f', '3', '1', 'locate', 'near', 'f', 'case', 'estimation', 'error', 'none', 'negligible', 'however', '1', 'distant', 'f', 'estimation', 'error', 'never', 'become', 'negligible', 'indeed', 'many', 'research', 'report', 'follow', 'situation', 'appear', '1', 'complex', 'estimation', 'error', 'converge', 'value', '0', 'number', 'sample', 'increase', 'decrease', 'hardly', 'even', 'though', 'dimension', 'heighten', 'property', 'sometimes', 'considerable', 'defect', 'neural', 'network', 'recursi', 'type', 'recursive', 'type', 'found', 'another', 'methodology', 'learn', 'follow', 'initial', 'stage', 'sample', 'set', 'fa', 'instead', 'notation', 'f', 'candidate', 'equal', 'set', 'map', 'x', 'y', 'observe', 'first', 'sample', 'xl', 'yl', 'e', 'x', 'x', 'y', 'fa', 'reduce', 'fi', 'ixt', 'yl', 'e', 'f', 'observe', 'second', 'sample', 'x2', 'y2', 'e', 'x', 'x', 'y', 'fl', 'reduce', 'f2', 'ixt', 'yl', 'ix2', 'y2', 'e', 'f', 'thus', 'candidate', 'set', 'f', 'become', 'gradually', 'small', 'observation', 'sample', 'proceed', 'observe', 'isamples', 'write', 'one', 'likelihood', 'estimation', '1', 'select', 'fi', 'hence', 'contrarily', 'parameter', 'type', 'recursive', 'type', 'guarantee', 'surely', 'j', 'approach', '1', 'number', 'sample', 'increase', 'recursive', 'type', 'observe', 'sample', 'x', 'yd', 'rewrite', 'value', '1lxs', 'ix', 'x', 'correlate', 'sample', 'hence', 'type', 'architecture', 'compose', 'rule', 'rewrite', 'free', 'memory', 'space', 'architecture', 'form', 'naturally', 'kind', 'database', 'build', 'management', 'system', 'data', 'selforganizing', 'way', 'however', 'database', 'differ', 'ordinary', 'one', 'follow', 'sense', 'record', 'sample', 'already', 'observe', 'compute', 'estimation', 'lx', 'x', 'e', 'x', 'call', 'database', 'associative', 'database', 'first', 'subject', 'construct', 'associative', 'database', 'establish', 'rule', 'rewri', 'ting', 'purpose', 'adap', 'measure', 'call', 'dissimilari', 'ty', 'here', 'dissimilari', 'ty', 'mean', 'map', 'x', 'x', 'x', 'real', 'o', 'x', 'x', 'e', 'x', 'x', 'x', 'dx', 'x', '0', 'whenever', 'lx', 'x', 'however', 'necessarily', 'define', 'single', 'formula', 'definable', 'with', 'example', 'collection', 'rule', 'write', 'form', 'if', 'then', 'dissimilarity', 'define', 'structure', '1', 'locally', 'x', 'x', 'y', 'hence', 'even', 'though', 'knowledge', 'f', 'imperfect', 'reflect', 'heuristic', 'way', 'hence', 'contrarily', 'neural', 'network', 'possible', 'accelerate', 'speed', 'learn', 'establish', 'well', 'especially', 'easily', 'find', 'simple', 'd', 'l', 'process', 'analogically', 'information', 'like', 'human', 'see', 'application', 'paper', 'and', 's', 'recursive', 'type', 'show', 'strongly', 'effectiveness', 'denote', 'sequence', 'observe', 'sample', 'xl', 'yd', 'x2', 'y2', 'one', 'simplest', 'construction', 'associative', 'database', 'observe', 'isamples', 'i', '12', 'follow', 'i', 'i', 'algorithm', '1', 'initial', 'stage', 'let', 'empty', 'set', 'every', '12', 'let', 'ilx', 'x', 'e', 'x', 'equal', 'y', 'xy', 'e', 'sl', 'dx', 'x', 'min', 'yest', 'dx', 'x', 'furthermore', 'add', 'x', 'y', 'sl', 'produce', 'sa', 'ie', 's', 'sl', 'u', 'x', '1', 'yn', '769', 'another', 'version', 'improve', 'economize', 'memory', 'follow', 'algorithm', '2', 'initial', 'stage', 'let', 'compose', 'arbitrary', 'element', 'x', 'x', 'y', 'every', '12', 'let', 'iilex', 'x', 'e', 'x', 'equal', 'y', 'x', 'y', 'e', 'sil', 'dx', 'x', 'min', 'dx', 'x', 'iiesl', 'furthermore', 'iilxi', 'yi', 'let', 'si', 'sil', 'add', 'xi', 'yi', 'sil', 'produce', 'si', 'ie', 'si', 'sil', 'u', 'xi', 'yi', 'either', 'construction', 'ii', 'approach', 'f', 'increase', 'however', 'computation', 'time', 'grow', 'proportionally', 'size', 'si', 'second', 'subject', 'construct', 'associative', 'database', 'address', 'rule', 'employ', 'economize', 'computation', 'time', 'subsequent', 'chapter', 'construction', 'associative', 'database', 'purpose', 'propose', 'manage', 'data', 'form', 'binary', 'tree', 'selforganization', 'associative', 'database', 'give', 'sample', 'sequence', 'xl', 'yl', 'x2', 'y2', 'algorithm', 'construct', 'associative', 'database', 'follow', 'algorithm', '3', 'step', 'iinitialization', 'let', 'xroot', 'yroot', 'xl', 'yd', 'here', 'x', 'y', 'variable', 'assign', 'respective', 'node', 'memorize', 'data', 'furthermore', 'let', '1', 'step', '2', 'increase', '1', 'put', 'x', 'in', 'reset', 'pointer', 'n', 'root', 'repeat', 'follow', 'n', 'arrive', 'terminal', 'node', 'ie', 'leaf', 'notation', 'nand', 'dxt', 'xn', 'let', 'n', 'n', 'mean', 'descendant', 'node', 'n', 'n', 'otherwise', 'let', 'n', 'n', 'dx', 'rn', 'step', '3', 'display', 'yin', 'relate', 'information', 'next', 'put', 'y', 'in', 'yin', 'y', 'back', 'step', '2', 'otherwise', 'first', 'establish', 'new', 'descendant', 'node', 'n', 'n', 'secondly', 'let', 'xn', 'yin', 'xn', 'yin', 'xn', 'yin', 'xt', 'y', '2', '3', 'finally', 'back', 'step', '2', 'here', 'loop', 'step', '23', 'stop', 'time', 'also', 'continue', 'now', 'suppose', 'gate', 'element', 'namely', 'artificial', 'synapsis', 'play', 'role', 'branch', 'prepare', 'then', 'obtain', 'new', 'style', 'neural', 'network', 'gate', 'element', 'randomly', 'connect', 'algorithm', 'letter', 'recognition', 'recen', 'tly', 'vertical', 'slit', 'method', 'recognize', 'typographic', 'english', 'letters3', 'elastic', 'match', 'method', 'recognize', 'hand', 'write', 'discrete', 'english', 'letters4', 'global', 'train', 'fuzzy', 'logic', 'search', 'method', 'recognize', 'chinese', 'character', 'write', 'square', 'style', 'etc', 'publish', 'selforganization', 'associative', 'database', 'realize', 'recognition', 'handwritten', 'continuous', 'english', 'letter', '770', '9', 'wn', 'nov', 'xk', 'lat', 'dw1lo', 'of', '44fig', '1', 'source', 'document', '2', 'loo', 'h', 'fig', '2', 'windowing', '1000', '2000', '3000', '4000', 'number', 'sample', '1000', '2000', '3000', '4000', 'nualber', 'sampl', 'e', 'fig', '3', 'experiment', 'result', 'image', 'scanner', 'take', 'document', 'image', 'fig', '1', 'letter', 'recognizer', 'us', 'parallelogram', 'window', 'least', 'cover', 'maximal', 'letter', 'fig', '2', 'process', 'sequence', 'letter', 'shift', 'window', 'be', 'recognizer', 'scan', 'word', 'slant', 'direction', 'and', 'place', 'window', 'leave', 'vicinity', 'may', 'first', 'black', 'point', 'detect', 'then', 'window', 'catch', 'letter', 'part', 'succeed', 'letter', 'recognition', 'head', 'letter', 'perform', 'end', 'position', 'namely', 'boundary', 'line', 'two', 'letter', 'become', 'know', 'hence', 'start', 'scan', 'boundary', 'repeat', 'operation', 'recognizer', 'accomplish', 'recursively', 'task', 'thus', 'major', 'problem', 'come', 'identify', 'head', 'letter', 'window', 'consider', 'it', 'define', 'follow', 'regard', 'window', 'image', 'x', 'define', 'x', 'accordingly', 'x', 'x', 'e', 'x', 'x', 'x', 'denote', 'b', 'black', 'point', 'leave', 'area', 'boundary', 'window', 'image', 'x', 'project', 'b', 'onto', 'window', 'image', 'x', 'then', 'measure', 'euclidean', 'distance', '6', 'fj', 'black', 'point', 'b', 'x', 'closest', 'b', 'let', 'dx', 'x', 'summation', '6', 'black', 'point', 'b', 'x', 'divide', 'number', 'b', 'regard', 'couple', 'read', 'position', 'boundary', 'y', 'define', 'accordingly', 'operator', 'teach', 'recognizer', 'interaction', 'relation', 'window', 'image', 'read', 'boundary', 'algorithm', '3', 'precisely', 'recall', 'read', 'incorrect', 'operator', 'teach', 'correct', 'read', 'via', 'console', 'moreover', 'boundary', 'position', 'incorrect', 'teach', 'correct', 'position', 'via', 'mouse', 'fig', '1', 'show', 'partially', 'document', 'image', 'use', 'experiment', 'fig', '3', 'show', 'change', 'number', 'node', 'recognition', 'rate', 'define', 'relative', 'frequency', 'correct', 'answer', 'past', '1000', 'trial', 'speciiications', 'window', 'height', '20dot', 'width', '10dot', 'slant', 'angular', '68deg', 'example', 'level', 'tree', 'distribute', '619', 'time', '4000', 'recognition', 'rate', 'converge', '74', 'experimentally', 'recognition', 'rate', 'converge', '6085', 'case', '95', 'rare', 'case', 'however', 'attain', '100', 'since', 'eg', 'c', 'e', 'distinguishable', 'excessive', 'lluctuation', 'write', 'consistency', 'x', 'yrelation', 'assure', 'like', 'this', 'number', 'node', 'increase', 'endlessly', 'd', 'fig', '3', 'hence', 'clever', 'stop', 'learn', 'recognition', 'rate', 'attain', 'upper', 'limit', 'improve', 'recognition', 'rate', 'must', 'consider', 'spell', 'word', 'one', 'future', 'subject', '771', 'obstacle', 'avoid', 'movement', 'various', 'system', 'camera', 'type', 'autonomous', 'mobile', 'robot', 'report', 'flourishingly61o', 'system', 'make', 'author', 'fig', '4', 'also', 'belong', 'category', 'now', 'mathematical', 'methodology', 'solve', 'usually', 'problem', 'obstacle', 'avoid', 'movement', 'cost', 'minimization', 'problem', 'cost', 'criterion', 'establish', 'artificially', 'contrarily', 'selforganization', 'associative', 'database', 'reproduce', 'faithfully', 'cost', 'criterion', 'operator', 'therefore', 'motion', 'robot', 'learn', 'become', 'natural', 'now', 'length', 'width', 'height', 'robot', 'o7m', 'weight', '30kg', 'visual', 'angle', 'camera', '55deg', 'robot', 'follow', 'three', 'factor', 'motion', 'turn', 'le', '30deg', 'advance', 'le', '1m', 'control', 'speed', 'le', '3kmh', 'experiment', 'do', 'passageway', 'wid', 'th', '25m', 'inside', 'build', 'author', 'laboratory', 'exist', 'fig', '5', 'experimental', 'intention', 'arrange', 'box', 'smoke', 'stand', 'gas', 'cylinder', 'stool', 'handcart', 'etc', 'passage', 'way', 'random', 'let', 'robot', 'take', 'image', 'camera', 'recall', 'similar', 'image', 'trace', 'route', 'preliminarily', 'record', 'it', 'purpose', 'define', 'follow', 'let', 'camera', 'face', '28deg', 'downward', 'take', 'image', 'process', 'low', 'pas', 'filter', 'scan', 'vertically', 'filter', 'image', 'bottom', 'top', 'search', 'first', 'point', 'c', 'luminance', 'change', 'excessively', 'then', 'su', 'bstitu', 'te', 'point', 'bottom', 'c', 'white', 'point', 'c', 'top', 'black', 'fig', '6', 'if', 'obstacle', 'exist', 'front', 'robot', 'white', 'area', 'show', 'free', 'area', 'robot', 'move', 'around', 'regard', 'binary', '32', 'x', '32dot', 'image', 'process', 'thus', 'x', 'define', 'x', 'accordingly', 'every', 'x', 'x', 'e', 'x', 'x', 'x', 'let', 'dx', 'x', 'number', 'black', 'point', 'exclusiveor', 'image', 'x', 'x', 'regard', 'y', 'image', 'obtain', 'draw', 'route', 'image', 'x', 'define', 'accordingly', 'robot', 'superimpose', 'current', 'camera', 'image', 'x', 'route', 'recall', 'x', 'inquire', 'operator', 'instruction', 'operator', 'judge', 'subjectively', 'whether', 'suggest', 'route', 'appropriate', 'not', 'negative', 'answer', 'draw', 'desirable', 'route', 'x', 'mouse', 'teach', 'new', 'robot', 'operation', 'define', 'implicitly', 'sample', 'sequence', 'x', 'y', 'reflect', 'cost', 'criterion', 'operator', 'l', 'iibube', '22', '11', 'roan', '12', '13', 'stationary', 'uni', 'fig', '4', 'configuration', 'autonomous', 'mobile', 'robot', 'system', '23', '24', 'north', '14', 'rmbi', 'ie', 'unit', 'robot', 'roan', 'fig', '5', 'experimental', 'environment', '772', 'wall', 'camera', 'image', 'preprocessing', 'fa', 'preprocessing', '0', 'course', 'suggest', 'ion', 'search', 'fig', '6', 'process', 'obstacle', 'avoid', 'movement', 'x', 'fig', '1', 'process', 'position', 'identification', 'define', 'satisfaction', 'rate', 'relative', 'frequency', 'acceptable', 'suggestion', 'route', 'past', '100', 'trial', 'typical', 'experiment', 'change', 'satisfaction', 'rate', 'show', 'similar', 'tendency', 'fig', '3', 'attain', '95', 'around', 'time', '800', 'here', 'notice', 'rest', '5', 'mean', 'directly', 'percentage', 'collision', 'in', 'practice', 'prevent', 'collision', 'adopt', 'supplementary', 'measure', 'time', '800', 'number', 'node', '145', 'level', 'tree', 'distribute', '617', 'propose', 'method', 'reflect', 'delicately', 'various', 'character', 'operator', 'example', 'robot', 'train', 'operator', '0', 'move', 'slowly', 'enough', 'space', 'obstacle', 'one', 'train', 'another', 'operator', '0', 'brush', 'quickly', 'obstacle', 'fact', 'give', 'u', 'hint', 'method', 'print', 'character', 'machine', 'position', 'identification', 'robot', 'identify', 'position', 'recall', 'similar', 'landscape', 'position', 'data', 'camera', 'image', 'purpose', 'principle', 'suffice', 'regard', 'camera', 'image', 'position', 'data', 'x', 'y', 'respectively', 'however', 'memory', 'capacity', 'finite', 'actual', 'compu', 'ters', 'hence', 'cannot', 'compress', 'camera', 'image', 'slight', 'loss', 'information', 'compression', 'admittable', 'long', 'precision', 'position', 'identification', 'acceptable', 'area', 'thus', 'major', 'problem', 'come', 'find', 'suitable', 'compression', 'method', 'experimental', 'environment', 'fig', '5', 'jut', 'passageway', 'interval', '36m', 'section', 'adjacent', 'jut', 'one', 'door', 'robot', 'identify', 'roughly', 'surround', 'landscape', 'section', 'place', 'in', 'and', 'us', 'temporarily', 'triangular', 'survey', 'technique', 'exact', 'measure', 'necessary', 'realize', 'former', 'task', 'define', 'follow', 'turn', 'camera', 'take', 'panorama', 'image', '360deg', 'scan', 'horizontally', 'center', 'line', 'substitute', 'point', 'luminance', 'excessively', 'change', 'black', 'point', 'white', 'fig', '1', 'regard', 'binary', '360dot', 'line', 'image', 'process', 'thus', 'x', 'define', 'x', 'accordingly', 'every', 'x', 'x', 'e', 'x', 'x', 'x', 'project', 'black', 'point', 'x', 'onto', 'x', 'and', 'measure', 'euclidean', 'distance', '6', 'black', 'point', 'x', 'closest', 'a', 'let', 'summation', '6', 's', 'similarly', 'calculate', 'exchange', 'role', 'x', 'x', 'denote', 'number', 'a', 'a', 'respectively', 'nand', 'n', 'define', '773', 'dx', 'x', '2', 'n', 'n', '4', 'regard', 'positive', 'integer', 'label', 'section', 'y', 'cf', 'fig', '5', 'define', 'accordingly', 'learn', 'mode', 'robot', 'check', 'exactly', 'position', 'counter', 'reset', 'periodically', 'operator', 'robot', 'run', 'arbitrarily', 'passageway', 'within', '18m', 'area', 'learn', 'relation', 'landscape', 'position', 'data', 'position', 'identification', 'beyond', '18m', 'area', 'achieve', 'cross', 'plural', 'database', 'one', 'another', 'task', 'automatic', 'except', 'periodic', 'reset', 'counter', 'namely', 'kind', 'learn', 'without', 'teacher', 'define', 'identification', 'rate', 'relative', 'frequency', 'correct', 'recall', 'position', 'data', 'past', '100', 'trial', 'typical', 'example', 'converge', '83', 'around', 'time', '400', 'time', '400', 'number', 'level', '202', 'level', 'oftree', 'distribute', '522', 'since', 'identification', 'failure', '17', 'reject', 'consider', 'trajectory', 'pro', 'blem', 'arise', 'practical', 'use', 'order', 'improve', 'identification', 'rate', 'compression', 'ratio', 'camera', 'image', 'must', 'loosen', 'possibility', 'depend', 'improvement', 'hardware', 'future', 'fig', '8', 'show', 'example', 'actual', 'motion', 'robot', 'base', 'database', 'obstacle', 'avoid', 'movement', 'position', 'identification', 'example', 'correspond', 'case', 'move', '14', '23', 'fig', '5', 'here', 'time', 'interval', 'per', 'frame', '40sec', 'i', 'i', 'i', '1', 'ii', 'fig', '8', 'actual', 'motion', 'robot', '774', 'conclusion', 'method', 'selforganizing', 'associative', 'database', 'propose', 'application', 'robot', 'eyesight', 'system', 'machine', 'decompose', 'global', 'structure', 'unknown', 'set', 'local', 'structure', 'know', 'learn', 'universally', 'inputoutput', 'response', 'framework', 'problem', 'imply', 'wide', 'application', 'area', 'example', 'show', 'paper', 'defect', 'algorithm', '3', 'selforganization', 'tree', 'balance', 'well', 'subclass', 'structure', 'f', 'subject', 'impose', 'u', 'widen', 'class', 'probable', 'solution', 'abolish', 'address', 'rule', 'depend', 'directly', 'value', 'and', 'instead', 'establish', 'another', 'rule', 'depend', 'distribution', 'function', 'value', 'd', 'investigation', 'reference', '1', 'hopfield', 'j', 'j', 'd', 'w', 'tank', 'compute', 'neural', 'circuit', 'model', 'science', '233', '1986', 'pp', '625633', '2', 'rumelhart', 'd', 'e', 'et', 'al', 'learn', 'representation', 'backpropagating', 'error', 'nature', '323', '1986', 'pp', '533536', '3', 'hull', 'j', 'j', 'hypothesis', 'generation', 'computational', 'model', 'visual', 'word', 'recognition', 'ieee', 'expert', 'fall', '1986', 'pp', '6370', '4', 'kurtzberg', 'j', 'm', 'feature', 'analysis', 'symbol', 'recognition', 'elastic', 'match', 'ibm', 'j', 're', 'develop', '311', '1987', 'pp', '9195', '5', 'wang', 'q', 'r', 'c', 'y', 'suen', 'large', 'tree', 'classifier', 'heuristic', 'search', 'global', 'train', 'ieee', 'trans', 'pattern', 'anal', 'mach', 'intell', 'pami', '91', '1987', 'pp', '91102', '6', 'brook', 'r', 'a', 'et', 'al', 'self', 'calibration', 'motion', 'stereo', 'vision', 'mobile', 'robot', '4th', 'int', 'symp', 'robotics', 'research', '1987', 'pp', '267276', '7', 'goto', 'y', 'a', 'stentz', 'the', 'cmu', 'system', 'mobile', 'robot', 'navigation', '1987', 'ieee', 'int', 'conf', 'robotics', 'automation', '1987', 'pp', '99105', '8', 'madarasz', 'r', 'et', 'al', 'the', 'design', 'autonomous', 'vehicle', 'disable', 'ieee', 'jour', 'robotics', 'automation', 'ra', '23', '1986', 'pp', '117125', '9', 'triendl', 'e', 'd', 'j', 'kriegman', 'stereo', 'vision', 'navigation', 'within', 'build', '1987', 'ieee', 'int', 'conf', 'robotics', 'automation', '1987', 'pp', '17251730', '10', 'turk', 'm', 'a', 'et', 'al', 'video', 'roadfollowing', 'autonomous', 'land', 'vehicle', '1987', 'ieee', 'int', 'conf', 'robotics', 'automation', '1987', 'pp', '273279']\n"
     ]
    }
   ],
   "source": [
    "from nltk.corpus import stopwords \n",
    "from nltk.stem.wordnet import WordNetLemmatizer\n",
    "import string\n",
    "\n",
    "\n",
    "stop = set(stopwords.words('english'))\n",
    "exclude = set(string.punctuation) \n",
    "lemma = WordNetLemmatizer() \n",
    "\n",
    "def clean(doc):\n",
    "    stop_free = \" \".join([i for i in doc.lower().split() if i not in stop])\n",
    "    punc_free = ''.join(ch for ch in stop_free if ch not in exclude)\n",
    "    normalizedFromNouns = \" \".join(lemma.lemmatize(word,'n') for word in punc_free.split())\n",
    "    normalizedFromVerbs = \" \".join(lemma.lemmatize(word,'v') for word in normalizedFromNouns.split())\n",
    "    return normalizedFromVerbs\n",
    "\n",
    "\n",
    "papersArrayClean = [clean(paper).split() for paper in papersArray]\n",
    "print(papersArrayClean[0])"
   ]
  },
  {
   "cell_type": "markdown",
   "metadata": {},
   "source": [
    "### Removing punctuation and formulas"
   ]
  },
  {
   "cell_type": "code",
   "execution_count": 9,
   "metadata": {},
   "outputs": [
    {
     "name": "stdout",
     "output_type": "stream",
     "text": [
      "['selforganization', 'associative', 'database', 'application', 'hisashi', 'suzuki', 'arimoto', 'osaka', 'university', 'osaka', 'japan', 'abstract', 'efficient', 'method', 'selforganizing', 'associative', 'database', 'propose', 'together', 'application', 'robot', 'eyesight', 'system', 'propose', 'database', 'associate', 'input', 'output', 'first', 'half', 'part', 'discussion', 'algorithm', 'selforganization', 'propose', 'aspect', 'hardware', 'produce', 'style', 'neural', 'network', 'latter', 'half', 'part', 'applicability', 'handwritten', 'letter', 'recognition', 'autonomous', 'mobile', 'robot', 'system', 'demonstrate', 'introduction', 'give', 'here', 'finite', 'infinite', 'another', 'finite', 'infinite', 'learn', 'machine', 'observe', 'pair', 'sample', 'randomly', 'mean', 'cartesian', 'product', 'compute', 'estimate', 'make', 'small', 'estimation', 'error', 'measure', 'usually', 'that', 'faster', 'decrease', 'estimation', 'error', 'increase', 'number', 'sample', 'better', 'learn', 'machine', 'however', 'expression', 'performance', 'incomplete', 'since', 'lack', 'consideration', 'candidate', 'assume', 'preliminarily', 'then', 'find', 'good', 'learn', 'machine', 'clarify', 'conception', 'discus', 'type', 'learn', 'machine', 'advance', 'understand', 'selforganization', 'associative', 'database', 'parameter', 'type', 'ordinary', 'type', 'learn', 'machine', 'assume', 'equation', 'relate', 'parameter', 'indefinite', 'namely', 'structure', 'equivalent', 'define', 'implicitly', 'candidate', 'subset', 'compute', 'value', 'parameter', 'base', 'observe', 'sample', 'call', 'type', 'parameter', 'type', 'learn', 'machine', 'define', 'well', 'approach', 'number', 'sample', 'increase', 'alternative', 'case', 'however', 'estimation', 'error', 'remain', 'thus', 'problem', 'design', 'learn', 'machine', 'return', 'find', 'proper', 'structure', 'sense', 'hand', 'assume', 'structure', 'demand', 'compact', 'possible', 'achieve', 'fast', 'learn', 'word', 'number', 'parameter', 'small', 'since', 'parameter', 'uniquely', 'determine', 'even', 'though', 'observe', 'sample', 'however', 'demand', 'proper', 'contradict', 'compact', 'consequently', 'parameter', 'type', 'better', 'compactness', 'assume', 'structure', 'proper', 'better', 'learn', 'machine', 'elementary', 'conception', 'design', 'learn', 'machine', 'universality', 'ordinary', 'neural', 'network', 'suppose', 'sufficient', 'knowledge', 'give', 'though', 'unknown', 'case', 'comparatively', 'easy', 'find', 'proper', 'compact', 'structure', 'alternative', 'case', 'however', 'sometimes', 'difficult', 'possible', 'solution', 'give', 'compactness', 'assume', 'structure', 'cover', 'various', 'combination', 'orthogonal', 'base', 'infinite', 'dimension', 'structure', 'neural', 'network', 'approximation', 'obtain', 'truncate', 'finitely', 'dimension', 'implementation', 'american', 'institute', 'physic', 'main', 'topic', 'design', 'neural', 'network', 'establish', 'desirable', 'structure', 'work', 'include', 'develop', 'practical', 'procedure', 'compute', 'value', 'coefficient', 'observe', 'sample', 'discussion', 'flourish', 'since', 'many', 'efficient', 'method', 'propose', 'recently', 'even', 'hardware', 'unit', 'compute', 'coefficient', 'parallel', 'speedup', 'sell', 'mark', 'odyssey', 'nevertheless', 'neural', 'network', 'always', 'exist', 'danger', 'error', 'remain', 'estimate', 'precisely', 'speak', 'suppose', 'combination', 'base', 'finite', 'number', 'define', 'structure', 'essentially', 'word', 'suppose', 'locate', 'near', 'case', 'estimation', 'error', 'none', 'negligible', 'however', 'distant', 'estimation', 'error', 'never', 'become', 'negligible', 'indeed', 'many', 'research', 'report', 'follow', 'situation', 'appear', 'complex', 'estimation', 'error', 'converge', 'value', 'number', 'sample', 'increase', 'decrease', 'hardly', 'even', 'though', 'dimension', 'heighten', 'property', 'sometimes', 'considerable', 'defect', 'neural', 'network', 'type', 'recursive', 'type', 'found', 'another', 'methodology', 'learn', 'follow', 'initial', 'stage', 'sample', 'instead', 'notation', 'candidate', 'equal', 'observe', 'first', 'sample', 'reduce', 'observe', 'second', 'sample', 'reduce', 'thus', 'candidate', 'become', 'gradually', 'small', 'observation', 'sample', 'proceed', 'observe', 'write', 'likelihood', 'estimation', 'select', 'hence', 'contrarily', 'parameter', 'type', 'recursive', 'type', 'guarantee', 'surely', 'approach', 'number', 'sample', 'increase', 'recursive', 'type', 'observe', 'sample', 'rewrite', 'value', 'correlate', 'sample', 'hence', 'type', 'architecture', 'compose', 'rule', 'rewrite', 'free', 'memory', 'space', 'architecture', 'form', 'naturally', 'kind', 'database', 'build', 'management', 'system', 'data', 'selforganizing', 'however', 'database', 'differ', 'ordinary', 'follow', 'sense', 'record', 'sample', 'already', 'observe', 'compute', 'estimation', 'call', 'database', 'associative', 'database', 'first', 'subject', 'construct', 'associative', 'database', 'establish', 'rule', 'ting', 'purpose', 'adap', 'measure', 'call', 'dissimilari', 'here', 'dissimilari', 'mean', 'real', 'whenever', 'however', 'necessarily', 'define', 'single', 'formula', 'definable', 'with', 'example', 'collection', 'rule', 'write', 'form', 'then', 'dissimilarity', 'define', 'structure', 'locally', 'hence', 'even', 'though', 'knowledge', 'imperfect', 'reflect', 'heuristic', 'hence', 'contrarily', 'neural', 'network', 'possible', 'accelerate', 'speed', 'learn', 'establish', 'well', 'especially', 'easily', 'find', 'simple', 'process', 'information', 'like', 'human', 'application', 'paper', 'recursive', 'type', 'show', 'strongly', 'effectiveness', 'denote', 'sequence', 'observe', 'sample', 'simplest', 'construction', 'associative', 'database', 'observe', 'follow', 'algorithm', 'initial', 'stage', 'empty', 'every', 'equal', 'furthermore', 'produce', 'another', 'version', 'improve', 'economize', 'memory', 'follow', 'algorithm', 'initial', 'stage', 'compose', 'arbitrary', 'element', 'every', 'equal', 'furthermore', 'produce', 'either', 'construction', 'approach', 'increase', 'however', 'computation', 'time', 'grow', 'proportionally', 'size', 'second', 'subject', 'construct', 'associative', 'database', 'address', 'rule', 'employ', 'economize', 'computation', 'time', 'subsequent', 'chapter', 'construction', 'associative', 'database', 'purpose', 'propose', 'manage', 'data', 'form', 'binary', 'tree', 'selforganization', 'associative', 'database', 'give', 'sample', 'sequence', 'algorithm', 'construct', 'associative', 'database', 'follow', 'algorithm', 'step', 'xroot', 'here', 'variable', 'assign', 'respective', 'node', 'memorize', 'data', 'furthermore', 'step', 'increase', 'reset', 'pointer', 'root', 'repeat', 'follow', 'arrive', 'terminal', 'node', 'leaf', 'notation', 'nand', 'mean', 'descendant', 'node', 'otherwise', 'step', 'display', 'relate', 'information', 'next', 'back', 'step', 'otherwise', 'first', 'establish', 'descendant', 'node', 'secondly', 'finally', 'back', 'step', 'here', 'loop', 'step', 'stop', 'time', 'also', 'continue', 'suppose', 'gate', 'element', 'namely', 'artificial', 'synapsis', 'play', 'role', 'branch', 'prepare', 'then', 'obtain', 'style', 'neural', 'network', 'gate', 'element', 'randomly', 'connect', 'algorithm', 'letter', 'recognition', 'vertical', 'slit', 'method', 'recognize', 'english', 'elastic', 'match', 'method', 'recognize', 'hand', 'write', 'discrete', 'english', 'global', 'train', 'fuzzy', 'logic', 'search', 'method', 'recognize', 'chinese', 'character', 'write', 'square', 'style', 'publish', 'selforganization', 'associative', 'database', 'realize', 'recognition', 'handwritten', 'continuous', 'english', 'letter', 'source', 'document', 'windowing', 'number', 'sample', 'sampl', 'experiment', 'result', 'image', 'scanner', 'take', 'document', 'image', 'letter', 'recognizer', 'parallelogram', 'window', 'least', 'cover', 'maximal', 'letter', 'process', 'sequence', 'letter', 'shift', 'window', 'recognizer', 'scan', 'word', 'slant', 'direction', 'place', 'window', 'leave', 'vicinity', 'first', 'black', 'point', 'detect', 'then', 'window', 'catch', 'letter', 'part', 'succeed', 'letter', 'recognition', 'head', 'letter', 'perform', 'position', 'namely', 'boundary', 'line', 'letter', 'become', 'know', 'hence', 'start', 'scan', 'boundary', 'repeat', 'operation', 'recognizer', 'accomplish', 'recursively', 'task', 'thus', 'major', 'problem', 'come', 'identify', 'head', 'letter', 'window', 'consider', 'define', 'follow', 'regard', 'window', 'image', 'define', 'accordingly', 'denote', 'black', 'point', 'leave', 'area', 'boundary', 'window', 'image', 'project', 'onto', 'window', 'image', 'then', 'measure', 'euclidean', 'distance', 'black', 'point', 'closest', 'summation', 'black', 'point', 'divide', 'number', 'regard', 'couple', 'read', 'position', 'boundary', 'define', 'accordingly', 'operator', 'teach', 'recognizer', 'interaction', 'relation', 'window', 'image', 'read', 'boundary', 'algorithm', 'precisely', 'recall', 'read', 'incorrect', 'operator', 'teach', 'correct', 'read', 'console', 'moreover', 'boundary', 'position', 'incorrect', 'teach', 'correct', 'position', 'mouse', 'show', 'partially', 'document', 'image', 'experiment', 'show', 'change', 'number', 'node', 'recognition', 'rate', 'define', 'relative', 'frequency', 'correct', 'answer', 'past', 'trial', 'window', 'height', 'width', 'slant', 'angular', 'example', 'level', 'tree', 'distribute', 'time', 'recognition', 'rate', 'converge', 'experimentally', 'recognition', 'rate', 'converge', 'case', 'rare', 'case', 'however', 'attain', 'since', 'distinguishable', 'excessive', 'write', 'consistency', 'assure', 'like', 'this', 'number', 'node', 'increase', 'endlessly', 'hence', 'clever', 'stop', 'learn', 'recognition', 'rate', 'attain', 'upper', 'limit', 'improve', 'recognition', 'rate', 'must', 'consider', 'spell', 'word', 'future', 'subject', 'obstacle', 'avoid', 'movement', 'various', 'system', 'camera', 'type', 'autonomous', 'mobile', 'robot', 'report', 'system', 'make', 'author', 'also', 'belong', 'category', 'mathematical', 'methodology', 'solve', 'usually', 'problem', 'obstacle', 'avoid', 'movement', 'cost', 'minimization', 'problem', 'cost', 'criterion', 'establish', 'artificially', 'contrarily', 'selforganization', 'associative', 'database', 'reproduce', 'faithfully', 'cost', 'criterion', 'operator', 'therefore', 'motion', 'robot', 'learn', 'become', 'natural', 'length', 'width', 'height', 'robot', 'weight', '30kg', 'visual', 'angle', 'camera', 'robot', 'follow', 'three', 'factor', 'motion', 'turn', 'advance', 'control', 'speed', 'experiment', 'passageway', 'inside', 'build', 'author', 'laboratory', 'exist', 'experimental', 'intention', 'arrange', 'smoke', 'stand', 'cylinder', 'stool', 'passage', 'random', 'robot', 'take', 'image', 'camera', 'recall', 'similar', 'image', 'trace', 'route', 'preliminarily', 'record', 'purpose', 'define', 'follow', 'camera', 'face', 'downward', 'take', 'image', 'process', 'filter', 'scan', 'vertically', 'filter', 'image', 'bottom', 'search', 'first', 'point', 'luminance', 'change', 'excessively', 'then', 'point', 'bottom', 'white', 'point', 'black', 'obstacle', 'exist', 'front', 'robot', 'white', 'area', 'show', 'free', 'area', 'robot', 'move', 'around', 'regard', 'binary', 'image', 'process', 'thus', 'define', 'accordingly', 'every', 'number', 'black', 'point', 'exclusiveor', 'image', 'regard', 'image', 'obtain', 'draw', 'route', 'image', 'define', 'accordingly', 'robot', 'superimpose', 'current', 'camera', 'image', 'route', 'recall', 'inquire', 'operator', 'instruction', 'operator', 'judge', 'subjectively', 'whether', 'suggest', 'route', 'appropriate', 'negative', 'answer', 'draw', 'desirable', 'route', 'mouse', 'teach', 'robot', 'operation', 'define', 'implicitly', 'sample', 'sequence', 'reflect', 'cost', 'criterion', 'operator', 'stationary', 'configuration', 'autonomous', 'mobile', 'robot', 'system', 'north', 'unit', 'robot', 'experimental', 'environment', 'wall', 'camera', 'image', 'preprocessing', 'preprocessing', 'course', 'suggest', 'search', 'process', 'obstacle', 'avoid', 'movement', 'process', 'position', 'identification', 'define', 'satisfaction', 'rate', 'relative', 'frequency', 'acceptable', 'suggestion', 'route', 'past', 'trial', 'typical', 'experiment', 'change', 'satisfaction', 'rate', 'show', 'similar', 'tendency', 'attain', 'around', 'time', 'here', 'notice', 'rest', 'mean', 'directly', 'percentage', 'collision', 'practice', 'prevent', 'collision', 'adopt', 'supplementary', 'measure', 'time', 'number', 'node', 'level', 'tree', 'distribute', 'propose', 'method', 'reflect', 'delicately', 'various', 'character', 'operator', 'example', 'robot', 'train', 'operator', 'move', 'slowly', 'enough', 'space', 'obstacle', 'train', 'another', 'operator', 'brush', 'quickly', 'obstacle', 'fact', 'give', 'hint', 'method', 'print', 'character', 'machine', 'position', 'identification', 'robot', 'identify', 'position', 'recall', 'similar', 'landscape', 'position', 'data', 'camera', 'image', 'purpose', 'principle', 'suffice', 'regard', 'camera', 'image', 'position', 'data', 'respectively', 'however', 'memory', 'capacity', 'finite', 'actual', 'compu', 'ters', 'hence', 'cannot', 'compress', 'camera', 'image', 'slight', 'loss', 'information', 'compression', 'long', 'precision', 'position', 'identification', 'acceptable', 'area', 'thus', 'major', 'problem', 'come', 'find', 'suitable', 'compression', 'method', 'experimental', 'environment', 'passageway', 'interval', 'section', 'adjacent', 'door', 'robot', 'identify', 'roughly', 'surround', 'landscape', 'section', 'place', 'temporarily', 'triangular', 'survey', 'technique', 'exact', 'measure', 'necessary', 'realize', 'former', 'task', 'define', 'follow', 'turn', 'camera', 'take', 'panorama', 'image', 'scan', 'horizontally', 'center', 'line', 'substitute', 'point', 'luminance', 'excessively', 'change', 'black', 'point', 'white', 'regard', 'binary', 'line', 'image', 'process', 'thus', 'define', 'accordingly', 'every', 'project', 'black', 'point', 'onto', 'measure', 'euclidean', 'distance', 'black', 'point', 'closest', 'summation', 'similarly', 'calculate', 'exchange', 'role', 'denote', 'number', 'respectively', 'nand', 'define', 'regard', 'positive', 'integer', 'label', 'section', 'define', 'accordingly', 'learn', 'mode', 'robot', 'check', 'exactly', 'position', 'counter', 'reset', 'periodically', 'operator', 'robot', 'arbitrarily', 'passageway', 'within', 'area', 'learn', 'relation', 'landscape', 'position', 'data', 'position', 'identification', 'beyond', 'area', 'achieve', 'cross', 'plural', 'database', 'another', 'task', 'automatic', 'except', 'periodic', 'reset', 'counter', 'namely', 'kind', 'learn', 'without', 'teacher', 'define', 'identification', 'rate', 'relative', 'frequency', 'correct', 'recall', 'position', 'data', 'past', 'trial', 'typical', 'example', 'converge', 'around', 'time', 'time', 'number', 'level', 'level', 'distribute', 'since', 'identification', 'failure', 'reject', 'consider', 'trajectory', 'arise', 'practical', 'order', 'improve', 'identification', 'rate', 'compression', 'ratio', 'camera', 'image', 'must', 'loosen', 'possibility', 'depend', 'improvement', 'hardware', 'future', 'show', 'example', 'actual', 'motion', 'robot', 'base', 'database', 'obstacle', 'avoid', 'movement', 'position', 'identification', 'example', 'correspond', 'case', 'move', 'here', 'time', 'interval', 'frame', 'actual', 'motion', 'robot', 'conclusion', 'method', 'selforganizing', 'associative', 'database', 'propose', 'application', 'robot', 'eyesight', 'system', 'machine', 'decompose', 'global', 'structure', 'unknown', 'local', 'structure', 'know', 'learn', 'universally', 'inputoutput', 'response', 'framework', 'problem', 'imply', 'wide', 'application', 'area', 'example', 'show', 'paper', 'defect', 'algorithm', 'selforganization', 'tree', 'balance', 'well', 'subclass', 'structure', 'subject', 'impose', 'widen', 'class', 'probable', 'solution', 'abolish', 'address', 'rule', 'depend', 'directly', 'value', 'instead', 'establish', 'another', 'rule', 'depend', 'distribution', 'function', 'value', 'investigation', 'reference', 'hopfield', 'tank', 'compute', 'neural', 'circuit', 'model', 'science', 'rumelhart', 'learn', 'representation', 'backpropagating', 'error', 'nature', 'hull', 'hypothesis', 'generation', 'computational', 'model', 'visual', 'word', 'recognition', 'ieee', 'expert', 'fall', 'feature', 'analysis', 'symbol', 'recognition', 'elastic', 'match', 'develop', 'wang', 'suen', 'large', 'tree', 'classifier', 'heuristic', 'search', 'global', 'train', 'ieee', 'trans', 'pattern', 'anal', 'mach', 'intell', 'pami', 'brook', 'self', 'calibration', 'motion', 'stereo', 'vision', 'mobile', 'robot', 'symp', 'robotics', 'research', 'goto', 'stentz', 'system', 'mobile', 'robot', 'navigation', 'ieee', 'conf', 'robotics', 'automation', 'design', 'autonomous', 'vehicle', 'disable', 'ieee', 'jour', 'robotics', 'automation', 'kriegman', 'stereo', 'vision', 'navigation', 'within', 'build', 'ieee', 'conf', 'robotics', 'automation', 'turk', 'video', 'roadfollowing', 'autonomous', 'land', 'vehicle', 'ieee', 'conf', 'robotics', 'automation']\n"
     ]
    }
   ],
   "source": [
    "papersArrayCleanNoNumbers = []\n",
    "\n",
    "# removing numbers \n",
    "for doc in papersArrayClean:\n",
    "    numbers = list()\n",
    "    for word in doc:\n",
    "            if word.isnumeric(): numbers.append(word)\n",
    "    numbers = list(numbers)\n",
    "    for n in numbers:\n",
    "        doc.remove(n)\n",
    "    papersArrayCleanNoNumbers.append(doc)\n",
    "        \n",
    "\n",
    "papersArrayCleanNoLetter = []\n",
    "\n",
    "# removing words with less than 4 characters \n",
    "for doc in papersArrayCleanNoNumbers:\n",
    "    letters = list()\n",
    "    for word in doc:\n",
    "            if (len(word)<=3 ): letters.append(word)\n",
    "    letters = list(letters)\n",
    "    for n in letters:\n",
    "        doc.remove(n)\n",
    "    papersArrayCleanNoLetter.append(doc)\n",
    "\n",
    "print(papersArrayCleanNoLetter[0])"
   ]
  },
  {
   "cell_type": "markdown",
   "metadata": {},
   "source": [
    "## Create index"
   ]
  },
  {
   "cell_type": "markdown",
   "metadata": {},
   "source": [
    "### Define index schema and create directory"
   ]
  },
  {
   "cell_type": "code",
   "execution_count": 10,
   "metadata": {
    "collapsed": true
   },
   "outputs": [],
   "source": [
    "import os.path\n",
    "from whoosh.fields import *\n",
    "from whoosh.index import create_in\n",
    "\n",
    "from pathlib import Path\n",
    "pd = Path().resolve().parent.parent\n",
    "index_dir = str(pd) + \"/data/generated/index\"\n",
    "\n",
    "schema = Schema(id=ID(unique=True, stored=True), year=NUMERIC, title=TEXT, paper_text=TEXT, authors=TEXT, topic=TEXT)\n",
    "\n",
    "if not os.path.exists(index_dir):\n",
    "    os.mkdir(index_dir)\n",
    "ix = create_in(index_dir, schema) "
   ]
  },
  {
   "cell_type": "markdown",
   "metadata": {
    "collapsed": true
   },
   "source": [
    "### Write cleaned documents in the index"
   ]
  },
  {
   "cell_type": "code",
   "execution_count": null,
   "metadata": {
    "collapsed": true
   },
   "outputs": [],
   "source": [
    "writer = ix.writer()\n",
    "\n",
    "for i, key in enumerate(d):\n",
    "    content = \" \".join(papersArrayCleanNoLetter[i])\n",
    "    writer.add_document(id=str(key), year=d[key][0], title=d[key][1], paper_text=content, authors=d[key][3], topic=d[key][4])\n",
    "    \n",
    "writer.commit() "
   ]
  },
  {
   "cell_type": "code",
   "execution_count": null,
   "metadata": {
    "collapsed": true
   },
   "outputs": [],
   "source": []
  }
 ],
 "metadata": {
  "kernelspec": {
   "display_name": "Python 3",
   "language": "python",
   "name": "python3"
  },
  "language_info": {
   "codemirror_mode": {
    "name": "ipython",
    "version": 3
   },
   "file_extension": ".py",
   "mimetype": "text/x-python",
   "name": "python",
   "nbconvert_exporter": "python",
   "pygments_lexer": "ipython3",
   "version": "3.6.1"
  }
 },
 "nbformat": 4,
 "nbformat_minor": 2
}
