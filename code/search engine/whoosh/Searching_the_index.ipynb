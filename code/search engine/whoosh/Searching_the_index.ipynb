{
 "cells": [
  {
   "cell_type": "markdown",
   "metadata": {},
   "source": [
    "# Research function examples with Whoosh"
   ]
  },
  {
   "cell_type": "markdown",
   "metadata": {},
   "source": [
    "## Open the index"
   ]
  },
  {
   "cell_type": "code",
   "execution_count": 1,
   "metadata": {
    "collapsed": true
   },
   "outputs": [],
   "source": [
    "from whoosh import qparser\n",
    "import whoosh.index as index\n",
    "\n",
    "from pathlib import Path\n",
    "pd = Path().resolve().parent.parent\n",
    "index_dir = str(pd) + \"/data/generated/index\"\n",
    "\n",
    "ix = index.open_dir(index_dir)"
   ]
  },
  {
   "cell_type": "markdown",
   "metadata": {},
   "source": [
    "## Utility class to print results"
   ]
  },
  {
   "cell_type": "code",
   "execution_count": 2,
   "metadata": {
    "collapsed": true
   },
   "outputs": [],
   "source": [
    "class ResultDisplayer:\n",
    "    \n",
    "    def __init__(self, results):\n",
    "        self.results = results\n",
    "        \n",
    "    def displayResults(self):    \n",
    "        import sqlite3\n",
    "\n",
    "        from pathlib import Path\n",
    "        pd = Path().resolve().parent.parent\n",
    "        database = str(pd) + \"/data/generated/database/database.sqlite\"\n",
    "\n",
    "        # create a database connection\n",
    "        conn = sqlite3.connect(database)\n",
    "\n",
    "        with conn:\n",
    "            cur = conn.cursor()\n",
    "            print(results)\n",
    "            print()\n",
    "            \n",
    "            for result in self.results:\n",
    "                cur.execute(\"SELECT id, year, title FROM papers WHERE id = \" + result['id'])\n",
    "\n",
    "                row = cur.fetchone()\n",
    "                print(\"{} - {} ({})\".format(row[0], row[2], row[1]))\n",
    "    "
   ]
  },
  {
   "cell_type": "markdown",
   "metadata": {},
   "source": [
    "## Default query using AND"
   ]
  },
  {
   "cell_type": "code",
   "execution_count": 3,
   "metadata": {},
   "outputs": [
    {
     "name": "stdout",
     "output_type": "stream",
     "text": [
      "<Top 10 Results for And([Term('paper_text', 'machine'), Term('paper_text', 'learning')]) runtime=0.2567590760092073>\n",
      "\n",
      "918 - Limits on Learning Machine Accuracy Imposed by Data Quality (1994)\n",
      "917 - Temporal Dynamics of Generalization in Neural Networks (1994)\n",
      "3456 - Human Active Learning (2008)\n",
      "1384 - Reinforcement Learning with Hierarchies of Machines (1997)\n",
      "816 - Optimal Stopping and Effective Machine Complexity in Learning (1993)\n",
      "1065 - A Unified Learning Scheme: Bayesian-Kullback Ying-Yang Machine (1995)\n",
      "5872 - Efficient and Robust Automated Machine Learning (2015)\n",
      "6469 - Dual Learning for Machine Translation (2016)\n",
      "5541 - Optimal Teaching for Limited-Capacity Human Learners (2014)\n",
      "2236 - Field-Programmable Learning Arrays (2002)\n"
     ]
    }
   ],
   "source": [
    "from whoosh.qparser import QueryParser\n",
    "\n",
    "qp = QueryParser(\"paper_text\", schema=ix.schema)\n",
    "q = qp.parse(u\"machine learning\")\n",
    "\n",
    "with ix.searcher() as s:\n",
    "    results = s.search(q)\n",
    "        \n",
    "    ResultDisplayer(results).displayResults()"
   ]
  },
  {
   "cell_type": "markdown",
   "metadata": {},
   "source": [
    "## Query with OR"
   ]
  },
  {
   "cell_type": "code",
   "execution_count": 7,
   "metadata": {},
   "outputs": [
    {
     "name": "stdout",
     "output_type": "stream",
     "text": [
      "<Top 10 Results for Or([Term('paper_text', 'image'), Term('paper_text', 'processing')]) runtime=0.10381832249706946>\n",
      "\n",
      "2981 - Chained Boosting (2006)\n",
      "2409 - A Mixed-Signal VLSI for Real-Time Generation of Edge-Based Image Vectors (2003)\n",
      "2689 - Modeling Nonlinear Dependencies in Natural Images using Mixture of Laplacian Distribution (2004)\n",
      "2930 - An Analog Visual Pre-Processing Processor Employing Cyclic Line Access in Only-Nearest-Neighbor-Interconnects Architecture (2005)\n",
      "1540 - General-Purpose Localization of Textured Image Regions (1998)\n",
      "562 - Recurrent Eye Tracking Network Using a Distributed Representation of Image Motion (1991)\n",
      "5410 - PEWA: Patch-based Exponentially Weighted Aggregation for image denoising (2014)\n",
      "4686 - Image Denoising and Inpainting with Deep Neural Networks (2012)\n",
      "1455 - A General Purpose Image Processing Chip: Orientation Detection (1997)\n",
      "50 - An Adaptive and Heterodyne Filtering Procedure for the Imaging of Moving Objects (1987)\n"
     ]
    }
   ],
   "source": [
    "from whoosh.qparser import QueryParser\n",
    "\n",
    "# Parse query with 'OR'\n",
    "# 0 = importance to documents with one of the terms\n",
    "# 1 = importance to documents with all of the terms\n",
    "og = qparser.OrGroup.factory(0.5)\n",
    "\n",
    "qp = QueryParser(\"paper_text\", schema=ix.schema, group=og)\n",
    "q = qp.parse(u\"image processing\")\n",
    "\n",
    "with ix.searcher() as s:\n",
    "    results = s.search(q)\n",
    "    \n",
    "    ResultDisplayer(results).displayResults()"
   ]
  },
  {
   "cell_type": "markdown",
   "metadata": {},
   "source": [
    "## Query with multiple index fields"
   ]
  },
  {
   "cell_type": "code",
   "execution_count": 5,
   "metadata": {},
   "outputs": [
    {
     "name": "stdout",
     "output_type": "stream",
     "text": [
      "<Top 10 Results for And([Or([Term('title', 'database'), Term('paper_text', 'database')]), Or([Term('title', 'variable'), Term('paper_text', 'variable')])]) runtime=0.05991102920800806>\n",
      "\n",
      "3235 - Sparse Overcomplete Latent Variable Decomposition of Counts Data (2007)\n",
      "1380 - Estimating Dependency Structure as a Hidden Variable (1997)\n",
      "564 - Image Segmentation with Networks of Variable Scales (1991)\n",
      "742 - The Parti-Game Algorithm for Variable Resolution Reinforcement Learning in Multidimensional State-Spaces (1993)\n",
      "1729 - Topographic Transformation as a Discrete Latent Variable (1999)\n",
      "1580 - Learning a Continuous Hidden Variable Model for Binary Data (1998)\n",
      "5653 - A Recurrent Latent Variable Model for Sequential Data (2015)\n",
      "4352 - Learning Probabilistic Non-Linear Latent Variable Models for Tracking Complex Activities (2011)\n",
      "4022 - Latent Variable Models for Predicting File Dependencies in Large-Scale Software Development (2010)\n",
      "6456 - Multi-view Anomaly Detection via Robust Probabilistic Latent Variable Models (2016)\n"
     ]
    }
   ],
   "source": [
    "from whoosh.qparser import MultifieldParser\n",
    "\n",
    "mparser = MultifieldParser([\"title\", \"paper_text\"], schema=ix.schema)\n",
    "\n",
    "q = mparser.parse(u\"database variable\")\n",
    "\n",
    "with ix.searcher() as s:\n",
    "    results = s.search(q)\n",
    "    \n",
    "    ResultDisplayer(results).displayResults()"
   ]
  },
  {
   "cell_type": "markdown",
   "metadata": {},
   "source": [
    "## Query with fuzzy terms"
   ]
  },
  {
   "cell_type": "code",
   "execution_count": 20,
   "metadata": {},
   "outputs": [
    {
     "name": "stdout",
     "output_type": "stream",
     "text": [
      "<Top 10 Results for And([FuzzyTerm('paper_text', 'database', boost=1.000000, maxdist=0, prefixlength=0), FuzzyTerm('paper_text', 'variaxle', boost=1.000000, maxdist=2, prefixlength=0)]) runtime=2.916193322743311>\n",
      "\n",
      "5069 - Global Solver and Its Efficient Approximation for Variational Bayesian Low-rank Subspace Clustering (2013)\n",
      "3362 - Regulator Discovery from Gene Expression Time Series of Malaria Parasites: a Hierachical Approach (2007)\n",
      "4669 - Probabilistic Low-Rank Subspace Clustering (2012)\n",
      "6328 - The Generalized Reparameterization Gradient (2016)\n",
      "6074 - Proximal Deep Structured Models (2016)\n",
      "5011 - Efficient Algorithm for Privately Releasing Smooth Queries (2013)\n",
      "4095 - Learning Multiple Tasks with a Sparse Matrix-Normal Penalty (2010)\n",
      "1710 - Learning to Parse Images (1999)\n",
      "1389 - Serial Order in Reading Aloud: Connectionist Models and Neighborhood Structure (1997)\n",
      "6060 - A Probabilistic Programming Approach To Probabilistic Data Analysis (2016)\n"
     ]
    }
   ],
   "source": [
    "from whoosh.qparser import QueryParser\n",
    "from whoosh.query import FuzzyTerm\n",
    "\n",
    "qp = QueryParser(\"paper_text\", schema=ix.schema)\n",
    "qp.add_plugin(qparser.FuzzyTermPlugin())\n",
    "\n",
    "q = qp.parse(u\"database~0 variaxle~2\")\n",
    "\n",
    "with ix.searcher() as s:\n",
    "    results = s.search(q)\n",
    "    \n",
    "    ResultDisplayer(results).displayResults()"
   ]
  },
  {
   "cell_type": "markdown",
   "metadata": {
    "collapsed": true
   },
   "source": [
    "## Query with result filtering"
   ]
  },
  {
   "cell_type": "code",
   "execution_count": 5,
   "metadata": {},
   "outputs": [
    {
     "name": "stdout",
     "output_type": "stream",
     "text": [
      "<Top 2 Results for Or([Term('paper_text', 'image'), Term('paper_text', 'processing')]) runtime=0.36271308401569513>\n",
      "\n",
      "880 - Using a Saliency Map for Active Spatial Selective Attention: Implementation & Initial Results (1994)\n",
      "1168 - Human Face Detection in Visual Scenes (1995)\n"
     ]
    }
   ],
   "source": [
    "from whoosh.qparser import QueryParser\n",
    "from whoosh import query\n",
    "\n",
    "# Parse with filter on fields\n",
    "\n",
    "with ix.searcher() as s:\n",
    "    og = qparser.OrGroup.factory(0.5)\n",
    "    qp = QueryParser(\"paper_text\", schema=ix.schema, group=og)\n",
    "    user_q = qp.parse(\"image processing\")\n",
    "\n",
    "    # Filter results for fields\n",
    "    filter1 = query.Or([query.Term(\"year\", 1994), query.Term(\"year\", 1995)])\n",
    "    filter2 = query.Wildcard(\"authors\", \"*shumeet*\")\n",
    "    allow_q = filter1 & filter2\n",
    "    \n",
    "    # Don't show any documents where the \"tag\" field contains \"todo\"\n",
    "    restrict_q = query.Term(\"paper_text\", \"robots\")\n",
    "\n",
    "    results = s.search(user_q, filter=allow_q, mask=restrict_q)\n",
    "    ResultDisplayer(results).displayResults()"
   ]
  },
  {
   "cell_type": "code",
   "execution_count": null,
   "metadata": {
    "collapsed": true
   },
   "outputs": [],
   "source": []
  }
 ],
 "metadata": {
  "kernelspec": {
   "display_name": "Python 3",
   "language": "python",
   "name": "python3"
  },
  "language_info": {
   "codemirror_mode": {
    "name": "ipython",
    "version": 3
   },
   "file_extension": ".py",
   "mimetype": "text/x-python",
   "name": "python",
   "nbconvert_exporter": "python",
   "pygments_lexer": "ipython3",
   "version": "3.6.1"
  }
 },
 "nbformat": 4,
 "nbformat_minor": 2
}
