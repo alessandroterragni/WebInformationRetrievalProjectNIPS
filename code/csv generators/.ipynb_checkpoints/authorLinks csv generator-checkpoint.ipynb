{
 "cells": [
  {
   "cell_type": "markdown",
   "metadata": {},
   "source": [
    "# AuthorLinks csv generator"
   ]
  },
  {
   "cell_type": "markdown",
   "metadata": {},
   "source": [
    "This notebook creates the csv \"authorsLink.csv\" from the file paper_authors.csv .                                 It creates a table with two columns Author 1, Author 2 when two authors have worked together"
   ]
  },
  {
   "cell_type": "code",
   "execution_count": 1,
   "metadata": {
    "collapsed": false
   },
   "outputs": [],
   "source": [
    "import pandas as pd\n",
    "from pathlib import Path\n",
    "d = Path().resolve().parent.parent\n",
    "d = str(d) + \"/data/original/paper_authors.csv\"\n",
    "\n",
    "csv = pd.read_csv(d)"
   ]
  },
  {
   "cell_type": "code",
   "execution_count": 2,
   "metadata": {
    "collapsed": true
   },
   "outputs": [],
   "source": [
    "paper_id = {}\n",
    "for it in range(0,len(csv)):\n",
    "    num = csv['paper_id'][it]\n",
    "    if num in paper_id:\n",
    "        paper_id[num].append(csv['author_id'][it])\n",
    "    else:\n",
    "        paper_id[num] = []\n",
    "        paper_id[num].append(csv['author_id'][it])"
   ]
  },
  {
   "cell_type": "code",
   "execution_count": 3,
   "metadata": {
    "collapsed": true
   },
   "outputs": [],
   "source": [
    "final = []\n",
    "for it in paper_id.items():\n",
    "    if(len(it[1])>=2):\n",
    "        au_paper = 0\n",
    "        for au in range(0,len(it[1])-1):\n",
    "            #print(it[1][au])\n",
    "            for au2 in range(au+1,len(it[1])):\n",
    "                #print(it[1][au2])\n",
    "                x = [it[1][au],it[1][au2]]\n",
    "                final.append(x)"
   ]
  },
  {
   "cell_type": "code",
   "execution_count": 5,
   "metadata": {
    "collapsed": false
   },
   "outputs": [],
   "source": [
    "import csv\n",
    "with open(\"authorsLinks.csv\", \"w\") as f:\n",
    "    writer = csv.writer(f)\n",
    "    writer.writerow(['Author1','Author2'])\n",
    "    writer.writerows(final)"
   ]
  },
  {
   "cell_type": "code",
   "execution_count": null,
   "metadata": {
    "collapsed": true
   },
   "outputs": [],
   "source": []
  }
 ],
 "metadata": {
  "kernelspec": {
   "display_name": "Python 3",
   "language": "python",
   "name": "python3"
  },
  "language_info": {
   "codemirror_mode": {
    "name": "ipython",
    "version": 3
   },
   "file_extension": ".py",
   "mimetype": "text/x-python",
   "name": "python",
   "nbconvert_exporter": "python",
   "pygments_lexer": "ipython3",
   "version": "3.6.0"
  }
 },
 "nbformat": 4,
 "nbformat_minor": 2
}
