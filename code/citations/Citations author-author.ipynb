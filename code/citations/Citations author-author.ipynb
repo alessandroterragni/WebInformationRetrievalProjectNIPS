{
 "cells": [
  {
   "cell_type": "code",
   "execution_count": null,
   "metadata": {
    "collapsed": true
   },
   "outputs": [],
   "source": [
    "import pandas as pd\n",
    "from pathlib import Path\n",
    "d = Path().resolve().parent.parent\n",
    "paper_authors= pd.read_csv(str(d) + \"/data/original/paper_authors.csv\")\n",
    "citations = pd.read_csv(str(d) + \"/data/generated/citations-paper-author.csv\")\n",
    "del(paper_authors['id'])"
   ]
  },
  {
   "cell_type": "code",
   "execution_count": null,
   "metadata": {
    "collapsed": true
   },
   "outputs": [],
   "source": [
    "d = paper_authors.groupby('paper_id')['author_id'].apply(list)"
   ]
  },
  {
   "cell_type": "code",
   "execution_count": null,
   "metadata": {},
   "outputs": [],
   "source": [
    "final = []\n",
    "for i in range(0,len(citations)):\n",
    "    if(citations['paper_id'][i] == 6263):\n",
    "        print(\"ignore\")\n",
    "    else:     \n",
    "        a = d[citations['paper_id'][i]]\n",
    "        for element in a:\n",
    "            final.append([element,citations['author_id'][i]])"
   ]
  },
  {
   "cell_type": "markdown",
   "metadata": {},
   "source": [
    "Add the header once the file is created"
   ]
  },
  {
   "cell_type": "code",
   "execution_count": null,
   "metadata": {
    "collapsed": true
   },
   "outputs": [],
   "source": [
    "text_file = open(\"citations-author-author.csv\", \"w\")\n",
    "for element in final:\n",
    "    text_file.write(\"%s, %s \\n\" % (element[0],element[1]))\n",
    "text_file.close()"
   ]
  },
  {
   "cell_type": "code",
   "execution_count": null,
   "metadata": {
    "collapsed": true
   },
   "outputs": [],
   "source": []
  }
 ],
 "metadata": {
  "kernelspec": {
   "display_name": "Python 3",
   "language": "python",
   "name": "python3"
  },
  "language_info": {
   "codemirror_mode": {
    "name": "ipython",
    "version": 3
   },
   "file_extension": ".py",
   "mimetype": "text/x-python",
   "name": "python",
   "nbconvert_exporter": "python",
   "pygments_lexer": "ipython3",
   "version": "3.6.1"
  }
 },
 "nbformat": 4,
 "nbformat_minor": 2
}
