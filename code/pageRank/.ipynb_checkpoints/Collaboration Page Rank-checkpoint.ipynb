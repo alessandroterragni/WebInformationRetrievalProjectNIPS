{
 "cells": [
  {
   "cell_type": "markdown",
   "metadata": {},
   "source": [
    "# Collaboration Page Rank"
   ]
  },
  {
   "cell_type": "markdown",
   "metadata": {},
   "source": [
    "This code calculates the pageRank of each author based on the collaborations they have done.\n",
    "First, an undirected collaboration graph is created using networkx, then the page rank is calulated with and without conisdering weights on edges ( we added weights to the edges of the graph, measuring how many times authors work together.\n",
    "For example, if the authors A and B worked together in 3 papers, the weight on the edge that connects them will be 3 )\n"
   ]
  },
  {
   "cell_type": "code",
   "execution_count": 5,
   "metadata": {
    "collapsed": false
   },
   "outputs": [
    {
     "name": "stdout",
     "output_type": "stream",
     "text": [
      "   Author1  Author2\n",
      "0      124      125\n",
      "1      124      126\n",
      "2      124      127\n",
      "3      125      126\n",
      "4      125      127\n",
      "5      126      127\n",
      "6       33       34\n",
      "\n",
      "without considering weights\n"
     ]
    },
    {
     "data": {
      "image/png": "[encoded data removed]",
      "text/plain": [
       "<matplotlib.figure.Figure at 0x11b52b898>"
      ]
     },
     "metadata": {},
     "output_type": "display_data"
    },
    {
     "name": "stdout",
     "output_type": "stream",
     "text": [
      "pageRank results:\n",
      "\n",
      "considering weights\n"
     ]
    },
    {
     "data": {
      "image/png": "[encoded data removed]",
      "text/plain": [
       "<matplotlib.figure.Figure at 0x11ae347f0>"
      ]
     },
     "metadata": {},
     "output_type": "display_data"
    }
   ],
   "source": [
    "import pandas as pd\n",
    "import networkx as nx\n",
    "import matplotlib.pyplot as plt\n",
    "import csv\n",
    "from pathlib import Path\n",
    "\n",
    "d = Path().resolve().parent.parent\n",
    "d = str(d) + \"/data/generated/authorsCollaborations.csv\"\n",
    "\n",
    "\n",
    "authors= pd.read_csv(d,delimiter=',')\n",
    "print(authors.head(7))\n",
    "\n",
    "\n",
    "#create the graphm for collaborations ( is not directed )\n",
    "g=nx.Graph()\n",
    "    \n",
    "# list filled with 1 to assign weights\n",
    "list1 = list(1 for i in range(0,len(authors)))\n",
    "\n",
    "#add edges\n",
    "g.add_nodes_from(authors.Author1,attr_dict=dict)\n",
    "g.add_weighted_edges_from(zip(authors.Author1,authors.Author2,list1))\n",
    "\n",
    "\n",
    "print(\"\\nGraph without considering weights\")\n",
    "#print(list(g.edges_iter(data='weight', default=1)))\n",
    "\n",
    "#draw it \n",
    "nx.draw_networkx(g,with_labels=False)\n",
    "plt.show()\n",
    "\n",
    "print(\"pageRank results:\")\n",
    "pr = nx.pagerank(g, weight='weight')\n",
    "#print(pr)\n",
    "\n",
    "#save the results in a csv\n",
    "with open('collaborationPageRankNoWeights.csv', 'w') as f:\n",
    "    writer = csv.writer(f)\n",
    "    writer.writerow(['AuthorId','PageRank'])\n",
    "    for key, value in pr.items():\n",
    "       writer.writerow([key, value])\n",
    "\n",
    "\n",
    "## now let's take in consideration the weights\n",
    "authorsCouples = list(zip(authors.Author1,authors.Author2))\n",
    "\n",
    "for i in range(0,len(authorsCouples)):\n",
    "    if g.has_edge(authorsCouples[i][0], authorsCouples[i][1]):\n",
    "                g[authorsCouples[i][0]][authorsCouples[i][1]]['weight'] =0\n",
    "\n",
    "for i in range(0,len(authorsCouples)):\n",
    "    if g.has_edge(authorsCouples[i][0], authorsCouples[i][1]):\n",
    "                g[authorsCouples[i][0]][authorsCouples[i][1]]['weight'] +=1\n",
    "\n",
    "            \n",
    "print(\"\\nGraph considering weights\")\n",
    "#print(list(g.edges_iter(data='weight', default=1)))\n",
    "           \n",
    "\n",
    "nx.draw_networkx(g,with_labels=False)\n",
    "plt.show()\n",
    "\n",
    "#print(\"pageRank results:\")\n",
    "pr = nx.pagerank(g, weight='weight')\n",
    "#print(pr)\n",
    "\n",
    "#save the results in a csv\n",
    "with open('collaborationPageRankWithWeights.csv', 'w') as f:\n",
    "    writer = csv.writer(f)\n",
    "    writer.writerow(['AuthorId','PageRank'])\n",
    "    for key, value in pr.items():\n",
    "       writer.writerow([key, value])\n",
    "\n",
    "    "
   ]
  },
  {
   "cell_type": "markdown",
   "metadata": {
    "collapsed": true
   },
   "source": [
    "## Add a column with the absolute ordering of the PageRank to make the results more clear to to the final user"
   ]
  },
  {
   "cell_type": "code",
   "execution_count": null,
   "metadata": {
    "collapsed": true
   },
   "outputs": [],
   "source": [
    "pagerank = pd.read_csv('collaborationPageRankWithWeights.csv')\n",
    "print(pagerank.head(5))\n",
    "pagerank = pagerank.sort_values('PageRank',ascending=False)\n",
    "\n",
    "print(pagerank.head(5))\n",
    "\n",
    "lista = []\n",
    "for i in range(1,len(pagerank)+1):\n",
    "    lista.append(i)\n",
    "\n",
    "\n",
    "pagerank['Order'] = lista\n",
    "print(pagerank.head(5))\n",
    "\n",
    "pagerank.to_csv(\"pageRankCollaborationWithOrder.csv\",index=False)"
   ]
  },
  {
   "cell_type": "code",
   "execution_count": null,
   "metadata": {
    "collapsed": true
   },
   "outputs": [],
   "source": [
    "pagerankwithOrder = pd.read_csv('pageRankCollaborationWithOrder.csv')\n",
    "pagerankwithOrder.head(5)"
   ]
  }
 ],
 "metadata": {
  "kernelspec": {
   "display_name": "Python 3",
   "language": "python",
   "name": "python3"
  },
  "language_info": {
   "codemirror_mode": {
    "name": "ipython",
    "version": 3
   },
   "file_extension": ".py",
   "mimetype": "text/x-python",
   "name": "python",
   "nbconvert_exporter": "python",
   "pygments_lexer": "ipython3",
   "version": "3.6.0"
  }
 },
 "nbformat": 4,
 "nbformat_minor": 2
}
