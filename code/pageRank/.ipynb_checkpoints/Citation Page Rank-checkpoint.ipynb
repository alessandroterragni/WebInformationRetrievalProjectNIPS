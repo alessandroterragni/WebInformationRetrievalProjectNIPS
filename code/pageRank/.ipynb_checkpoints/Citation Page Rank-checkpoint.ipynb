{
 "cells": [
  {
   "cell_type": "markdown",
   "metadata": {},
   "source": [
    "# Citation Page Rank"
   ]
  },
  {
   "cell_type": "markdown",
   "metadata": {},
   "source": [
    "This code calculates the pageRank of each author based on the citation they have received.\n",
    "First, a directed citation graph is created using networkx, then the page rank is calulated with and without considering weights on edges ( we added weights to the edges of the graph, measuring how many times authors work together.\n",
    "For example, if the authors A and B worked together in 3 papers, the weight on the edge that connects them will be 3)\n"
   ]
  },
  {
   "cell_type": "code",
   "execution_count": null,
   "metadata": {
    "collapsed": true
   },
   "outputs": [],
   "source": [
    "import pandas as pd\n",
    "import networkx as nx\n",
    "import matplotlib.pyplot as plt\n",
    "import csv\n",
    "\n",
    "from pathlib import Path\n",
    "d = Path().resolve().parent.parent\n",
    "d = str(d) + \"/data/generated/citations-author-author.csv\"\n",
    "\n",
    "authors= pd.read_csv(d,delimiter=',',names=[\"author_id\",\"author_cited_id\"])\n",
    "print(authors.head(7))\n",
    "\n",
    "\n",
    "#create the graph\n",
    "g=nx.DiGraph()\n",
    "    \n",
    "# list filled with 1 to assign weights\n",
    "list1 = list(1 for i in range(0,len(authors)))\n",
    "\n",
    "#add edges\n",
    "g.add_nodes_from(authors.author_id,attr_dict=dict)\n",
    "g.add_weighted_edges_from(zip(authors.author_id,authors.author_cited_id,list1))\n",
    "\n",
    "print(\"\\nCitation graph without considering weights\")\n",
    "#print(list(g.edges_iter(data='weight', default=1)))\n",
    "\n",
    "#draw it \n",
    "nx.draw_networkx(g,with_labels=False)\n",
    "plt.show()\n",
    "\n",
    "print(\"pageRank results:\")\n",
    "pr = nx.pagerank(g, weight='weight')\n",
    "#print(pr)\n",
    "\n",
    "#save the results in a csv\n",
    "with open('citationPageRankNoWeights.csv', 'w') as f:\n",
    "    writer = csv.writer(f)\n",
    "    writer.writerow(['AuthorId','PageRank'])\n",
    "    for key, value in pr.items():\n",
    "       writer.writerow([key, value])\n",
    "\n",
    "\n",
    "    \n",
    "## now let's take in consideration the weights\n",
    "authorsCouples = list(zip(authors.author_id,authors.author_cited_id))\n",
    "\n",
    "for i in range(0,len(authorsCouples)):\n",
    "    if g.has_edge(authorsCouples[i][0], authorsCouples[i][1]):\n",
    "                g[authorsCouples[i][0]][authorsCouples[i][1]]['weight'] =0\n",
    "\n",
    "for i in range(0,len(authorsCouples)):\n",
    "    if g.has_edge(authorsCouples[i][0], authorsCouples[i][1]):\n",
    "                g[authorsCouples[i][0]][authorsCouples[i][1]]['weight'] +=1\n",
    "\n",
    "print(\"\\nCitation graph considering weights\")\n",
    "#print(list(g.edges_iter(data='weight', default=1)))\n",
    "           \n",
    "\n",
    "nx.draw_networkx(g,with_labels=False)\n",
    "plt.show()\n",
    "\n",
    "#print(\"pageRank results:\")\n",
    "pr = nx.pagerank(g, weight='weight')\n",
    "#print(pr)\n",
    "\n",
    "#save the results in a csv\n",
    "with open('citationPageRankWithWeights.csv', 'w') as f:\n",
    "    writer = csv.writer(f)\n",
    "    writer.writerow(['AuthorId','PageRank'])\n",
    "    for key, value in pr.items():\n",
    "       writer.writerow([key, value])\n",
    "\n",
    "    "
   ]
  },
  {
   "cell_type": "markdown",
   "metadata": {},
   "source": [
    "## Add a column with the absolute ordering of the PageRank to make the results more clear to to the final user"
   ]
  },
  {
   "cell_type": "code",
   "execution_count": null,
   "metadata": {
    "collapsed": true
   },
   "outputs": [],
   "source": [
    "pagerank = pd.read_csv('citationPageRankWithWeights.csv')\n",
    "print(pagerank.head(5))\n",
    "pagerank = pagerank.sort_values('PageRank',ascending=False)\n",
    "\n",
    "print(pagerank.head(5))\n",
    "\n",
    "lista = []\n",
    "for i in range(1,len(pagerank)+1):\n",
    "    lista.append(i)\n",
    "\n",
    "pagerank['Order'] = lista\n",
    "print(pagerank.head(5))\n",
    "\n",
    "pagerank.to_csv(\"pageRankCitationWithOrder.csv.csv\",index=False)"
   ]
  },
  {
   "cell_type": "code",
   "execution_count": null,
   "metadata": {
    "collapsed": true
   },
   "outputs": [],
   "source": [
    "pagerankwithOrder = pd.read_csv('pageRankCitationWithOrder.csv')\n",
    "pagerankwithOrder.head(5)"
   ]
  }
 ],
 "metadata": {
  "kernelspec": {
   "display_name": "Python 3",
   "language": "python",
   "name": "python3"
  },
  "language_info": {
   "codemirror_mode": {
    "name": "ipython",
    "version": 3
   },
   "file_extension": ".py",
   "mimetype": "text/x-python",
   "name": "python",
   "nbconvert_exporter": "python",
   "pygments_lexer": "ipython3",
   "version": "3.6.0"
  }
 },
 "nbformat": 4,
 "nbformat_minor": 2
}
