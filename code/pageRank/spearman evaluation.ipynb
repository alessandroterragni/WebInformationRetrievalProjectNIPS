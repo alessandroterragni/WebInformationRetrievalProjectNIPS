{
 "cells": [
  {
   "cell_type": "markdown",
   "metadata": {},
   "source": [
    "# Spearman evaluation"
   ]
  },
  {
   "cell_type": "markdown",
   "metadata": {},
   "source": [
    "In this notebook the Collaboration PageRank and Citation PageRank are validated comparing them with Google Hindex and Microsoft Hindex using spearman metric: http://www.improvedoutcomes.com/docs/WebSiteDocs/Clustering/Clustering_Parameters/Spearman_Rank_Correlation_Distance_Metric.htm"
   ]
  },
  {
   "cell_type": "code",
   "execution_count": 8,
   "metadata": {
    "collapsed": true
   },
   "outputs": [],
   "source": [
    "import pandas as pd\n",
    "from pathlib import Path"
   ]
  },
  {
   "cell_type": "markdown",
   "metadata": {},
   "source": [
    "Set num to the number of authors that you want to take in consideration for the ranking comparison.\n",
    "For example with num = 100 we compare just the top 50 authors of each rannkin"
   ]
  },
  {
   "cell_type": "code",
   "execution_count": 19,
   "metadata": {
    "collapsed": true
   },
   "outputs": [],
   "source": [
    "num = 50"
   ]
  },
  {
   "cell_type": "markdown",
   "metadata": {},
   "source": [
    "load Citation PageRank and just taking the top num "
   ]
  },
  {
   "cell_type": "code",
   "execution_count": 21,
   "metadata": {
    "collapsed": false
   },
   "outputs": [
    {
     "name": "stdout",
     "output_type": "stream",
     "text": [
      "   AuthorId  PageRank  Order\n",
      "0      9291  0.021916      1\n",
      "1      7758  0.019614      2\n",
      "2      7735  0.018904      3\n",
      "3      7113  0.017060      4\n",
      "4      2228  0.013343      5\n",
      "   AuthorId\n",
      "0      9291\n",
      "1      7758\n",
      "2      7735\n",
      "3      7113\n",
      "4      2228\n"
     ]
    }
   ],
   "source": [
    "d = Path().resolve().parent.parent\n",
    "d = str(d) + \"/data/generated/pageRankCitationWithOrder.csv\"\n",
    "\n",
    "pageRankCitation = pd.read_csv(d)\n",
    "\n",
    "print(pageRankCitation.head(5))\n",
    "top = pageRankCitation.head(num)\n",
    "\n",
    "topCitationPageRankIDs = top[['AuthorId']]\n",
    "print(topCitationPageRankIDs.head(5))"
   ]
  },
  {
   "cell_type": "markdown",
   "metadata": {},
   "source": [
    "load Collaboration PageRank just taking the top num "
   ]
  },
  {
   "cell_type": "code",
   "execution_count": 22,
   "metadata": {
    "collapsed": false
   },
   "outputs": [
    {
     "name": "stdout",
     "output_type": "stream",
     "text": [
      "   AuthorId  PageRank  Order\n",
      "0       330  0.002324      1\n",
      "1      1472  0.002248      2\n",
      "2       178  0.002104      3\n",
      "3        54  0.001541      4\n",
      "4        41  0.001536      5\n",
      "   AuthorId\n",
      "0       330\n",
      "1      1472\n",
      "2       178\n",
      "3        54\n",
      "4        41\n"
     ]
    }
   ],
   "source": [
    "d = Path().resolve().parent.parent\n",
    "d = str(d) + \"/data/generated/pageRankCollabroationWithOrder.csv\"\n",
    "\n",
    "pageRankCollaboration = pd.read_csv(d)\n",
    "\n",
    "print(pageRankCollaboration.head(5))\n",
    "top = pageRankCollaboration.head(num)\n",
    "\n",
    "topCollaborationPageRankIDs = top[['AuthorId']]\n",
    "print(topCollaborationPageRankIDs.head(5))"
   ]
  },
  {
   "cell_type": "markdown",
   "metadata": {},
   "source": [
    "load Google H index ranking just taking the top num "
   ]
  },
  {
   "cell_type": "code",
   "execution_count": 23,
   "metadata": {
    "collapsed": false
   },
   "outputs": [
    {
     "name": "stdout",
     "output_type": "stream",
     "text": [
      "   author_id  google_hindex  ms_hindex\n",
      "0          1              0         21\n",
      "1          2              0         44\n",
      "2          3              0         45\n",
      "3          4             69         52\n",
      "4          5              0         33\n",
      "      author_id  google_hindex\n",
      "2435       2496            167\n",
      "4380       4444            153\n",
      "244         253            146\n",
      "1859       1917            145\n",
      "447         460            144\n",
      "      author_id\n",
      "2435       2496\n",
      "4380       4444\n",
      "244         253\n",
      "1859       1917\n",
      "447         460\n"
     ]
    }
   ],
   "source": [
    "d = Path().resolve().parent.parent\n",
    "d = str(d) + \"/data/generated/Google and Micorsoft hindex.csv\"\n",
    "\n",
    "hindexGoogle = pd.read_csv(d)\n",
    "print(hindexGoogle.head(5))\n",
    "\n",
    "hindexGoogle = hindexGoogle[['author_id', 'google_hindex' ]]\n",
    "\n",
    "\n",
    "hindexGoogle = hindexGoogle.sort_values('google_hindex',ascending=False)\n",
    "hindexGoogle = hindexGoogle.head(num)\n",
    "print(hindexGoogle.head(5))\n",
    "\n",
    "topGooglehindexIDs = hindexGoogle[['author_id']]\n",
    "print(topGooglehindexIDs.head(5))\n",
    "\n"
   ]
  },
  {
   "cell_type": "markdown",
   "metadata": {},
   "source": [
    "load Microsoft H index ranking just taking the top num "
   ]
  },
  {
   "cell_type": "code",
   "execution_count": 24,
   "metadata": {
    "collapsed": false
   },
   "outputs": [
    {
     "name": "stdout",
     "output_type": "stream",
     "text": [
      "   author_id  google_hindex  ms_hindex\n",
      "0          1              0         21\n",
      "1          2              0         44\n",
      "2          3              0         45\n",
      "3          4             69         52\n",
      "4          5              0         33\n",
      "      author_id  ms_hindex\n",
      "2209       2268        186\n",
      "5078       5143        181\n",
      "4548       4613        180\n",
      "5117       5183        176\n",
      "4626       4691        175\n",
      "      author_id\n",
      "2209       2268\n",
      "5078       5143\n",
      "4548       4613\n",
      "5117       5183\n",
      "4626       4691\n"
     ]
    }
   ],
   "source": [
    "d = Path().resolve().parent.parent\n",
    "d = str(d) + \"/data/generated/Google and Micorsoft hindex.csv\"\n",
    "\n",
    "hindexMicrosoft = pd.read_csv(d)\n",
    "\n",
    "print(hindexMicrosoft.head(5))\n",
    "\n",
    "hindexMicrosoft = hindexMicrosoft[['author_id', 'ms_hindex' ]]\n",
    "\n",
    "hindexMicrosoft = hindexMicrosoft.sort_values('ms_hindex',ascending=False)\n",
    "hindexMicrosoft = hindexMicrosoft.head(num)\n",
    "\n",
    "print(hindexMicrosoft.head(5))\n",
    "\n",
    "topMicrosofthindexIDs = hindexMicrosoft[['author_id']]\n",
    "print(topMicrosofthindexIDs.head(5))"
   ]
  },
  {
   "cell_type": "markdown",
   "metadata": {},
   "source": [
    "### Calculation of spearman coefficient between the data above"
   ]
  },
  {
   "cell_type": "code",
   "execution_count": 25,
   "metadata": {
    "collapsed": true
   },
   "outputs": [],
   "source": [
    "from scipy.stats import spearmanr"
   ]
  },
  {
   "cell_type": "code",
   "execution_count": 26,
   "metadata": {
    "collapsed": false
   },
   "outputs": [
    {
     "data": {
      "text/plain": [
       "SpearmanrResult(correlation=-0.0039855942376950783, pvalue=0.97808512047604546)"
      ]
     },
     "execution_count": 26,
     "metadata": {},
     "output_type": "execute_result"
    }
   ],
   "source": [
    "# page rank citation vs Google hindex\n",
    "spearmanr(topCitationPageRankIDs,topGooglehindexIDs)"
   ]
  },
  {
   "cell_type": "code",
   "execution_count": 27,
   "metadata": {
    "collapsed": false
   },
   "outputs": [
    {
     "data": {
      "text/plain": [
       "SpearmanrResult(correlation=-0.10415366146458584, pvalue=0.47164123322070084)"
      ]
     },
     "execution_count": 27,
     "metadata": {},
     "output_type": "execute_result"
    }
   ],
   "source": [
    "# page rank citation vs Microsoft hindex\n",
    "spearmanr(topCitationPageRankIDs,topMicrosofthindexIDs)"
   ]
  },
  {
   "cell_type": "code",
   "execution_count": 28,
   "metadata": {
    "collapsed": false
   },
   "outputs": [
    {
     "data": {
      "text/plain": [
       "SpearmanrResult(correlation=0.14871548619447778, pvalue=0.30266963261683905)"
      ]
     },
     "execution_count": 28,
     "metadata": {},
     "output_type": "execute_result"
    }
   ],
   "source": [
    "# page rank collaboration vs Google hindex\n",
    "spearmanr(topCollaborationPageRankIDs,topGooglehindexIDs)"
   ]
  },
  {
   "cell_type": "code",
   "execution_count": 29,
   "metadata": {
    "collapsed": false
   },
   "outputs": [
    {
     "data": {
      "text/plain": [
       "SpearmanrResult(correlation=-0.029627851140456178, pvalue=0.83816092256277896)"
      ]
     },
     "execution_count": 29,
     "metadata": {},
     "output_type": "execute_result"
    }
   ],
   "source": [
    "# page rank collaboration vs Microsoft hindex\n",
    "spearmanr(topCollaborationPageRankIDs,topMicrosofthindexIDs)"
   ]
  },
  {
   "cell_type": "code",
   "execution_count": null,
   "metadata": {
    "collapsed": true
   },
   "outputs": [],
   "source": []
  }
 ],
 "metadata": {
  "kernelspec": {
   "display_name": "Python 3",
   "language": "python",
   "name": "python3"
  },
  "language_info": {
   "codemirror_mode": {
    "name": "ipython",
    "version": 3
   },
   "file_extension": ".py",
   "mimetype": "text/x-python",
   "name": "python",
   "nbconvert_exporter": "python",
   "pygments_lexer": "ipython3",
   "version": "3.6.0"
  }
 },
 "nbformat": 4,
 "nbformat_minor": 2
}
